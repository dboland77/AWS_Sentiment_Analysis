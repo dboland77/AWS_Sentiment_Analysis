{
 "cells": [
  {
   "cell_type": "markdown",
   "metadata": {},
   "source": [
    "# Sentiment Analysis\n",
    "\n",
    "## Using XGBoost in SageMaker\n",
    "\n",
    "_Deep Learning Nanodegree Program | Deployment_\n",
    "\n",
    "---\n",
    "\n",
    "In this example of using Amazon's SageMaker service we will construct a random tree model to predict the sentiment of a movie review. You may have seen a version of this example in a pervious lesson although it would have been done using the sklearn package. Instead, we will be using the XGBoost package as it is provided to us by Amazon.\n",
    "\n",
    "## Instructions\n",
    "\n",
    "Some template code has already been provided for you, and you will need to implement additional functionality to successfully complete this notebook. You will not need to modify the included code beyond what is requested. Sections that begin with '**TODO**' in the header indicate that you need to complete or implement some portion within them. Instructions will be provided for each section and the specifics of the implementation are marked in the code block with a `# TODO: ...` comment. Please be sure to read the instructions carefully!\n",
    "\n",
    "In addition to implementing code, there will be questions for you to answer which relate to the task and your implementation. Each section where you will answer a question is preceded by a '**Question:**' header. Carefully read each question and provide your answer below the '**Answer:**' header by editing the Markdown cell.\n",
    "\n",
    "> **Note**: Code and Markdown cells can be executed using the **Shift+Enter** keyboard shortcut. In addition, a cell can be edited by typically clicking it (double-click for Markdown cells) or by pressing **Enter** while it is highlighted."
   ]
  },
  {
   "cell_type": "markdown",
   "metadata": {},
   "source": [
    "## Step 1: Downloading the data\n",
    "\n",
    "The dataset we are going to use is very popular among researchers in Natural Language Processing, usually referred to as the [IMDb dataset](http://ai.stanford.edu/~amaas/data/sentiment/). It consists of movie reviews from the website [imdb.com](http://www.imdb.com/), each labeled as either '**pos**itive', if the reviewer enjoyed the film, or '**neg**ative' otherwise.\n",
    "\n",
    "> Maas, Andrew L., et al. [Learning Word Vectors for Sentiment Analysis](http://ai.stanford.edu/~amaas/data/sentiment/). In _Proceedings of the 49th Annual Meeting of the Association for Computational Linguistics: Human Language Technologies_. Association for Computational Linguistics, 2011.\n",
    "\n",
    "We begin by using some Jupyter Notebook magic to download and extract the dataset."
   ]
  },
  {
   "cell_type": "code",
   "execution_count": 1,
   "metadata": {},
   "outputs": [
    {
     "name": "stdout",
     "output_type": "stream",
     "text": [
      "mkdir: cannot create directory ‘../data’: File exists\n",
      "--2020-04-21 10:58:10--  http://ai.stanford.edu/~amaas/data/sentiment/aclImdb_v1.tar.gz\n",
      "Resolving ai.stanford.edu (ai.stanford.edu)... 171.64.68.10\n",
      "Connecting to ai.stanford.edu (ai.stanford.edu)|171.64.68.10|:80... connected.\n",
      "HTTP request sent, awaiting response... 200 OK\n",
      "Length: 84125825 (80M) [application/x-gzip]\n",
      "Saving to: ‘../data/aclImdb_v1.tar.gz’\n",
      "\n",
      "../data/aclImdb_v1. 100%[===================>]  80.23M  9.97MB/s    in 12s     \n",
      "\n",
      "2020-04-21 10:58:23 (6.50 MB/s) - ‘../data/aclImdb_v1.tar.gz’ saved [84125825/84125825]\n",
      "\n"
     ]
    }
   ],
   "source": [
    "%mkdir ../data\n",
    "!wget -O ../data/aclImdb_v1.tar.gz http://ai.stanford.edu/~amaas/data/sentiment/aclImdb_v1.tar.gz\n",
    "!tar -zxf ../data/aclImdb_v1.tar.gz -C ../data"
   ]
  },
  {
   "cell_type": "markdown",
   "metadata": {},
   "source": [
    "## Step 2: Preparing the data\n",
    "\n",
    "The data we have downloaded is split into various files, each of which contains a single review. It will be much easier going forward if we combine these individual files into two large files, one for training and one for testing."
   ]
  },
  {
   "cell_type": "code",
   "execution_count": 2,
   "metadata": {},
   "outputs": [],
   "source": [
    "import os\n",
    "import glob\n",
    "\n",
    "def read_imdb_data(data_dir='../data/aclImdb'):\n",
    "    data = {}\n",
    "    labels = {}\n",
    "    \n",
    "    for data_type in ['train', 'test']:\n",
    "        data[data_type] = {}\n",
    "        labels[data_type] = {}\n",
    "        \n",
    "        for sentiment in ['pos', 'neg']:\n",
    "            data[data_type][sentiment] = []\n",
    "            labels[data_type][sentiment] = []\n",
    "            \n",
    "            path = os.path.join(data_dir, data_type, sentiment, '*.txt')\n",
    "            files = glob.glob(path)\n",
    "            \n",
    "            for f in files:\n",
    "                with open(f) as review:\n",
    "                    data[data_type][sentiment].append(review.read())\n",
    "                    # Here we represent a positive review by '1' and a negative review by '0'\n",
    "                    labels[data_type][sentiment].append(1 if sentiment == 'pos' else 0)\n",
    "                    \n",
    "            assert len(data[data_type][sentiment]) == len(labels[data_type][sentiment]), \\\n",
    "                    \"{}/{} data size does not match labels size\".format(data_type, sentiment)\n",
    "                \n",
    "    return data, labels"
   ]
  },
  {
   "cell_type": "code",
   "execution_count": 3,
   "metadata": {},
   "outputs": [
    {
     "name": "stdout",
     "output_type": "stream",
     "text": [
      "IMDB reviews: train = 12500 pos / 12500 neg, test = 12500 pos / 12500 neg\n"
     ]
    }
   ],
   "source": [
    "data, labels = read_imdb_data()\n",
    "print(\"IMDB reviews: train = {} pos / {} neg, test = {} pos / {} neg\".format(\n",
    "            len(data['train']['pos']), len(data['train']['neg']),\n",
    "            len(data['test']['pos']), len(data['test']['neg'])))"
   ]
  },
  {
   "cell_type": "code",
   "execution_count": 4,
   "metadata": {},
   "outputs": [],
   "source": [
    "from sklearn.utils import shuffle\n",
    "\n",
    "def prepare_imdb_data(data, labels):\n",
    "    \"\"\"Prepare training and test sets from IMDb movie reviews.\"\"\"\n",
    "    \n",
    "    #Combine positive and negative reviews and labels\n",
    "    data_train = data['train']['pos'] + data['train']['neg']\n",
    "    data_test = data['test']['pos'] + data['test']['neg']\n",
    "    labels_train = labels['train']['pos'] + labels['train']['neg']\n",
    "    labels_test = labels['test']['pos'] + labels['test']['neg']\n",
    "    \n",
    "    #Shuffle reviews and corresponding labels within training and test sets\n",
    "    data_train, labels_train = shuffle(data_train, labels_train)\n",
    "    data_test, labels_test = shuffle(data_test, labels_test)\n",
    "    \n",
    "    # Return a unified training data, test data, training labels, test labets\n",
    "    return data_train, data_test, labels_train, labels_test"
   ]
  },
  {
   "cell_type": "code",
   "execution_count": 5,
   "metadata": {},
   "outputs": [
    {
     "name": "stdout",
     "output_type": "stream",
     "text": [
      "IMDb reviews (combined): train = 25000, test = 25000\n"
     ]
    }
   ],
   "source": [
    "train_X, test_X, train_y, test_y = prepare_imdb_data(data, labels)\n",
    "print(\"IMDb reviews (combined): train = {}, test = {}\".format(len(train_X), len(test_X)))"
   ]
  },
  {
   "cell_type": "code",
   "execution_count": 6,
   "metadata": {},
   "outputs": [
    {
     "data": {
      "text/plain": [
       "\"I find myself comparing all stand-up acts to this one performance now. Even older recorded performances I once thought were funny just don't seem as funny after seeing Eddie Izzard in this award-winning look at history, language disparities, and Englebert Humperdink...\""
      ]
     },
     "execution_count": 6,
     "metadata": {},
     "output_type": "execute_result"
    }
   ],
   "source": [
    "train_X[100]"
   ]
  },
  {
   "cell_type": "markdown",
   "metadata": {},
   "source": [
    "## Step 3: Processing the data\n",
    "\n",
    "Now that we have our training and testing datasets merged and ready to use, we need to start processing the raw data into something that will be useable by our machine learning algorithm. To begin with, we remove any html formatting that may appear in the reviews and perform some standard natural language processing in order to homogenize the data."
   ]
  },
  {
   "cell_type": "code",
   "execution_count": 7,
   "metadata": {},
   "outputs": [
    {
     "name": "stdout",
     "output_type": "stream",
     "text": [
      "[nltk_data] Downloading package stopwords to\n",
      "[nltk_data]     /home/ec2-user/nltk_data...\n",
      "[nltk_data]   Unzipping corpora/stopwords.zip.\n"
     ]
    }
   ],
   "source": [
    "import nltk\n",
    "nltk.download(\"stopwords\")\n",
    "from nltk.corpus import stopwords\n",
    "from nltk.stem.porter import *\n",
    "stemmer = PorterStemmer()"
   ]
  },
  {
   "cell_type": "code",
   "execution_count": 8,
   "metadata": {},
   "outputs": [],
   "source": [
    "import re\n",
    "from bs4 import BeautifulSoup\n",
    "\n",
    "def review_to_words(review):\n",
    "    text = BeautifulSoup(review, \"html.parser\").get_text() # Remove HTML tags\n",
    "    text = re.sub(r\"[^a-zA-Z0-9]\", \" \", text.lower()) # Convert to lower case\n",
    "    words = text.split() # Split string into words\n",
    "    words = [w for w in words if w not in stopwords.words(\"english\")] # Remove stopwords\n",
    "    words = [PorterStemmer().stem(w) for w in words] # stem\n",
    "    \n",
    "    return words"
   ]
  },
  {
   "cell_type": "code",
   "execution_count": 32,
   "metadata": {},
   "outputs": [],
   "source": [
    "import pickle\n",
    "\n",
    "cache_dir = os.path.join(\"../cache\", \"sentiment_analysis\")  # where to store cache files\n",
    "os.makedirs(cache_dir, exist_ok=True)  # ensure cache directory exists\n",
    "\n",
    "def preprocess_data(data_train, data_test, labels_train, labels_test,\n",
    "                    cache_dir=cache_dir, cache_file=\"preprocessed_data.pkl\"):\n",
    "    \"\"\"Convert each review to words; read from cache if available.\"\"\"\n",
    "\n",
    "    # If cache_file is not None, try to read from it first\n",
    "    cache_data = None\n",
    "    if cache_file is not None:\n",
    "        try:\n",
    "            with open(os.path.join(cache_dir, cache_file), \"rb\") as f:\n",
    "                cache_data = pickle.load(f)\n",
    "            print(\"Read preprocessed data from cache file:\", cache_file)\n",
    "        except:\n",
    "            pass  # unable to read from cache, but that's okay\n",
    "    \n",
    "    # If cache is missing, then do the heavy lifting\n",
    "    if cache_data is None:\n",
    "        # Preprocess training and test data to obtain words for each review\n",
    "        #words_train = list(map(review_to_words, data_train))\n",
    "        #words_test = list(map(review_to_words, data_test))\n",
    "        words_train = [review_to_words(review) for review in data_train]\n",
    "        words_test = [review_to_words(review) for review in data_test]\n",
    "        \n",
    "        # Write to cache file for future runs\n",
    "        if cache_file is not None:\n",
    "            cache_data = dict(words_train=words_train, words_test=words_test,\n",
    "                              labels_train=labels_train, labels_test=labels_test)\n",
    "            with open(os.path.join(cache_dir, cache_file), \"wb\") as f:\n",
    "                pickle.dump(cache_data, f)\n",
    "            print(\"Wrote preprocessed data to cache file:\", cache_file)\n",
    "    else:\n",
    "        # Unpack data loaded from cache file\n",
    "        words_train, words_test, labels_train, labels_test = (cache_data['words_train'],\n",
    "                cache_data['words_test'], cache_data['labels_train'], cache_data['labels_test'])\n",
    "    \n",
    "    return words_train, words_test, labels_train, labels_test"
   ]
  },
  {
   "cell_type": "code",
   "execution_count": 33,
   "metadata": {},
   "outputs": [
    {
     "name": "stdout",
     "output_type": "stream",
     "text": [
      "Read preprocessed data from cache file: preprocessed_data.pkl\n"
     ]
    }
   ],
   "source": [
    "# Preprocess data\n",
    "train_X, test_X, train_y, test_y = preprocess_data(train_X, test_X, train_y, test_y)"
   ]
  },
  {
   "cell_type": "markdown",
   "metadata": {},
   "source": [
    "### Extract Bag-of-Words features\n",
    "\n",
    "For the model we will be implementing, rather than using the reviews directly, we are going to transform each review into a Bag-of-Words feature representation. Keep in mind that 'in the wild' we will only have access to the training set so our transformer can only use the training set to construct a representation."
   ]
  },
  {
   "cell_type": "code",
   "execution_count": 34,
   "metadata": {},
   "outputs": [],
   "source": [
    "import numpy as np\n",
    "from sklearn.feature_extraction.text import CountVectorizer\n",
    "from sklearn.externals import joblib\n",
    "# joblib is an enhanced version of pickle that is more efficient for storing NumPy arrays\n",
    "\n",
    "def extract_BoW_features(words_train, words_test, vocabulary_size=5000,\n",
    "                         cache_dir=cache_dir, cache_file=\"bow_features.pkl\"):\n",
    "    \"\"\"Extract Bag-of-Words for a given set of documents, already preprocessed into words.\"\"\"\n",
    "    \n",
    "    # If cache_file is not None, try to read from it first\n",
    "    cache_data = None\n",
    "    if cache_file is not None:\n",
    "        try:\n",
    "            with open(os.path.join(cache_dir, cache_file), \"rb\") as f:\n",
    "                cache_data = joblib.load(f)\n",
    "            print(\"Read features from cache file:\", cache_file)\n",
    "        except:\n",
    "            pass  # unable to read from cache, but that's okay\n",
    "    \n",
    "    # If cache is missing, then do the heavy lifting\n",
    "    if cache_data is None:\n",
    "        # Fit a vectorizer to training documents and use it to transform them\n",
    "        # NOTE: Training documents have already been preprocessed and tokenized into words;\n",
    "        #       pass in dummy functions to skip those steps, e.g. preprocessor=lambda x: x\n",
    "        vectorizer = CountVectorizer(max_features=vocabulary_size,\n",
    "                preprocessor=lambda x: x, tokenizer=lambda x: x)  # already preprocessed\n",
    "        features_train = vectorizer.fit_transform(words_train).toarray()\n",
    "\n",
    "        # Apply the same vectorizer to transform the test documents (ignore unknown words)\n",
    "        features_test = vectorizer.transform(words_test).toarray()\n",
    "        \n",
    "        # NOTE: Remember to convert the features using .toarray() for a compact representation\n",
    "        \n",
    "        # Write to cache file for future runs (store vocabulary as well)\n",
    "        if cache_file is not None:\n",
    "            vocabulary = vectorizer.vocabulary_\n",
    "            cache_data = dict(features_train=features_train, features_test=features_test,\n",
    "                             vocabulary=vocabulary)\n",
    "            with open(os.path.join(cache_dir, cache_file), \"wb\") as f:\n",
    "                joblib.dump(cache_data, f)\n",
    "            print(\"Wrote features to cache file:\", cache_file)\n",
    "    else:\n",
    "        # Unpack data loaded from cache file\n",
    "        features_train, features_test, vocabulary = (cache_data['features_train'],\n",
    "                cache_data['features_test'], cache_data['vocabulary'])\n",
    "    \n",
    "    # Return both the extracted features as well as the vocabulary\n",
    "    return features_train, features_test, vocabulary"
   ]
  },
  {
   "cell_type": "code",
   "execution_count": 35,
   "metadata": {},
   "outputs": [
    {
     "name": "stdout",
     "output_type": "stream",
     "text": [
      "Read features from cache file: bow_features.pkl\n"
     ]
    }
   ],
   "source": [
    "# Extract Bag of Words features for both training and test datasets\n",
    "train_X, test_X, vocabulary = extract_BoW_features(train_X, test_X)"
   ]
  },
  {
   "cell_type": "markdown",
   "metadata": {},
   "source": [
    "## Step 4: Classification using XGBoost\n",
    "\n",
    "Now that we have created the feature representation of our training (and testing) data, it is time to start setting up and using the XGBoost classifier provided by SageMaker.\n",
    "\n",
    "### Writing the dataset\n",
    "\n",
    "The XGBoost classifier that we will be using requires the dataset to be written to a file and stored using Amazon S3. To do this, we will start by splitting the training dataset into two parts, the data we will train the model with and a validation set. Then, we will write those datasets to a file and upload the files to S3. In addition, we will write the test set input to a file and upload the file to S3. This is so that we can use SageMakers Batch Transform functionality to test our model once we've fit it."
   ]
  },
  {
   "cell_type": "code",
   "execution_count": 36,
   "metadata": {},
   "outputs": [],
   "source": [
    "import pandas as pd\n",
    "\n",
    "val_X = pd.DataFrame(train_X[:10000])\n",
    "train_X = pd.DataFrame(train_X[10000:])\n",
    "\n",
    "val_y = pd.DataFrame(train_y[:10000])\n",
    "train_y = pd.DataFrame(train_y[10000:])\n",
    "\n",
    "test_y = pd.DataFrame(test_y)\n",
    "test_X = pd.DataFrame(test_X)"
   ]
  },
  {
   "cell_type": "markdown",
   "metadata": {},
   "source": [
    "The documentation for the XGBoost algorithm in SageMaker requires that the saved datasets should contain no headers or index and that for the training and validation data, the label should occur first for each sample.\n",
    "\n",
    "For more information about this and other algorithms, the SageMaker developer documentation can be found on __[Amazon's website.](https://docs.aws.amazon.com/sagemaker/latest/dg/)__"
   ]
  },
  {
   "cell_type": "code",
   "execution_count": 37,
   "metadata": {},
   "outputs": [],
   "source": [
    "# First we make sure that the local directory in which we'd like to store the training and validation csv files exists.\n",
    "data_dir = '../data/xgboost'\n",
    "if not os.path.exists(data_dir):\n",
    "    os.makedirs(data_dir)"
   ]
  },
  {
   "cell_type": "code",
   "execution_count": 38,
   "metadata": {},
   "outputs": [],
   "source": [
    "# First, save the test data to test.csv in the data_dir directory. Note that we do not save the associated ground truth\n",
    "# labels, instead we will use them later to compare with our model output.\n",
    "\n",
    "#pd.concat([test_y, test_X], axis=1).to_csv(os.path.join(data_dir, 'test.csv'), header=False, index=False)\n",
    "# We need the target labels for training and validation but not for testing so we need to remove Y\n",
    "pd.DataFrame(test_X).to_csv(os.path.join(data_dir, 'test.csv'), header=False, index=False)\n",
    "pd.concat([val_y, val_X], axis=1).to_csv(os.path.join(data_dir, 'validation.csv'), header=False, index=False)\n",
    "pd.concat([train_y, train_X], axis=1).to_csv(os.path.join(data_dir, 'train.csv'), header=False, index=False)"
   ]
  },
  {
   "cell_type": "code",
   "execution_count": 16,
   "metadata": {},
   "outputs": [],
   "source": [
    "# To save a bit of memory we can set text_X, train_X, val_X, train_y and val_y to None.\n",
    "\n",
    "train_X = val_X = train_y = val_y = None"
   ]
  },
  {
   "cell_type": "markdown",
   "metadata": {},
   "source": [
    "### Uploading Training / Validation files to S3\n",
    "\n",
    "Amazon's S3 service allows us to store files that can be access by both the built-in training models such as the XGBoost model we will be using as well as custom models such as the one we will see a little later.\n",
    "\n",
    "For this, and most other tasks we will be doing using SageMaker, there are two methods we could use. The first is to use the low level functionality of SageMaker which requires knowing each of the objects involved in the SageMaker environment. The second is to use the high level functionality in which certain choices have been made on the user's behalf. The low level approach benefits from allowing the user a great deal of flexibility while the high level approach makes development much quicker. For our purposes we will opt to use the high level approach although using the low-level approach is certainly an option.\n",
    "\n",
    "Recall the method `upload_data()` which is a member of object representing our current SageMaker session. What this method does is upload the data to the default bucket (which is created if it does not exist) into the path described by the key_prefix variable. To see this for yourself, once you have uploaded the data files, go to the S3 console and look to see where the files have been uploaded.\n",
    "\n",
    "For additional resources, see the __[SageMaker API documentation](http://sagemaker.readthedocs.io/en/latest/)__ and in addition the __[SageMaker Developer Guide.](https://docs.aws.amazon.com/sagemaker/latest/dg/)__"
   ]
  },
  {
   "cell_type": "code",
   "execution_count": 17,
   "metadata": {},
   "outputs": [],
   "source": [
    "import sagemaker\n",
    "\n",
    "session = sagemaker.Session() # Store the current SageMaker session\n",
    "\n",
    "# S3 prefix (which folder will we use)\n",
    "prefix = 'sentiment-xgboost'\n",
    "\n",
    "test_location = session.upload_data(os.path.join(data_dir, 'test.csv'), key_prefix=prefix)\n",
    "val_location = session.upload_data(os.path.join(data_dir, 'validation.csv'), key_prefix=prefix)\n",
    "train_location = session.upload_data(os.path.join(data_dir, 'train.csv'), key_prefix=prefix)"
   ]
  },
  {
   "cell_type": "markdown",
   "metadata": {},
   "source": [
    "### (TODO) Creating a hypertuned XGBoost model\n",
    "\n",
    "Now that the data has been uploaded it is time to create the XGBoost model. As in the Boston Housing notebook, the first step is to create an estimator object which will be used as the *base* of your hyperparameter tuning job."
   ]
  },
  {
   "cell_type": "code",
   "execution_count": 18,
   "metadata": {},
   "outputs": [],
   "source": [
    "from sagemaker import get_execution_role\n",
    "\n",
    "# Our current execution role is require when creating the model as the training\n",
    "# and inference code will need to access the model artifacts.\n",
    "role = get_execution_role()"
   ]
  },
  {
   "cell_type": "code",
   "execution_count": 19,
   "metadata": {},
   "outputs": [
    {
     "name": "stderr",
     "output_type": "stream",
     "text": [
      "WARNING:root:There is a more up to date SageMaker XGBoost image. To use the newer image, please set 'repo_version'='0.90-1'. For example:\n",
      "\tget_image_uri(region, 'xgboost', '0.90-1').\n"
     ]
    }
   ],
   "source": [
    "# We need to retrieve the location of the container which is provided by Amazon for using XGBoost.\n",
    "# As a matter of convenience, the training and inference code both use the same container.\n",
    "from sagemaker.amazon.amazon_estimator import get_image_uri\n",
    "\n",
    "container = get_image_uri(session.boto_region_name, 'xgboost')"
   ]
  },
  {
   "cell_type": "code",
   "execution_count": 20,
   "metadata": {},
   "outputs": [],
   "source": [
    "# TODO: Create a SageMaker estimator using the container location determined in the previous cell.\n",
    "#       It is recommended that you use a single training instance of type ml.m4.xlarge. It is also\n",
    "#       recommended that you use 's3://{}/{}/output'.format(session.default_bucket(), prefix) as the\n",
    "#       output path.\n",
    "\n",
    "xgb = sagemaker.estimator.Estimator(container, # The name of the training container\n",
    "                                    role,      # The IAM role to use (our current role in this case)\n",
    "                                    train_instance_count=1, # The number of instances to use for training\n",
    "                                    train_instance_type='ml.m4.xlarge', # The type of instance ot use for training\n",
    "                                    output_path='s3://{}/{}/output'.format(session.default_bucket(), prefix),\n",
    "                                                                        # Where to save the output (the model artifacts)\n",
    "                                    sagemaker_session=session) # The current SageMaker session\n",
    "\n",
    "\n",
    "\n"
   ]
  },
  {
   "cell_type": "code",
   "execution_count": 21,
   "metadata": {},
   "outputs": [],
   "source": [
    "# TODO: Set the XGBoost hyperparameters in the xgb object. Don't forget that in this case we have a binary\n",
    "#       label so we should be using the 'binary:logistic' objective.\n",
    "xgb.set_hyperparameters(max_depth=5,\n",
    "                        eta=0.2,\n",
    "                        gamma=4,\n",
    "                        min_child_weight=6,\n",
    "                        subsample=0.8,\n",
    "                        objective='binary:logistic',\n",
    "                        early_stopping_rounds=10,\n",
    "                        num_round=200)"
   ]
  },
  {
   "cell_type": "markdown",
   "metadata": {},
   "source": [
    "### (TODO) Create the hyperparameter tuner\n",
    "\n",
    "Now that the base estimator has been set up we need to construct a hyperparameter tuner object which we will use to request SageMaker construct a hyperparameter tuning job.\n",
    "\n",
    "**Note:** Training a single sentiment analysis XGBoost model takes longer than training a Boston Housing XGBoost model so if you don't want the hyperparameter tuning job to take too long, make sure to not set the total number of models (jobs) too high."
   ]
  },
  {
   "cell_type": "code",
   "execution_count": 22,
   "metadata": {},
   "outputs": [],
   "source": [
    "# First, make sure to import the relevant objects used to construct the tuner\n",
    "from sagemaker.tuner import IntegerParameter, ContinuousParameter, HyperparameterTuner\n",
    "\n",
    "# TODO: Create the hyperparameter tuner object\n",
    "\n",
    "xgb_hyperparameter_tuner = HyperparameterTuner(estimator = xgb, # The estimator object to use as the basis for the training jobs.\n",
    "                                               objective_metric_name = 'validation:rmse', # The metric used to compare trained models.\n",
    "                                               objective_type = 'Minimize', # Whether we wish to minimize or maximize the metric.\n",
    "                                               max_jobs = 4, # The total number of models to train\n",
    "                                               max_parallel_jobs = 3, # The number of models to train in parallel\n",
    "                                               hyperparameter_ranges = {\n",
    "                                                    'max_depth': IntegerParameter(3, 12),\n",
    "                                                    'eta'      : ContinuousParameter(0.05, 0.5),\n",
    "                                                    'min_child_weight': IntegerParameter(2, 8),\n",
    "                                                    'subsample': ContinuousParameter(0.5, 0.9),\n",
    "                                                    'gamma': ContinuousParameter(0, 10),\n",
    "                                               })"
   ]
  },
  {
   "cell_type": "markdown",
   "metadata": {},
   "source": [
    "### Fit the hyperparameter tuner\n",
    "\n",
    "Now that the hyperparameter tuner object has been constructed, it is time to fit the various models and find the best performing model."
   ]
  },
  {
   "cell_type": "code",
   "execution_count": 39,
   "metadata": {},
   "outputs": [],
   "source": [
    "s3_input_train = sagemaker.s3_input(s3_data=train_location, content_type='csv')\n",
    "s3_input_validation = sagemaker.s3_input(s3_data=val_location, content_type='csv')"
   ]
  },
  {
   "cell_type": "code",
   "execution_count": 40,
   "metadata": {},
   "outputs": [],
   "source": [
    "xgb_hyperparameter_tuner.fit({'train': s3_input_train, 'validation': s3_input_validation})"
   ]
  },
  {
   "cell_type": "markdown",
   "metadata": {},
   "source": [
    "Remember that the tuning job is constructed and run in the background so if we want to see the progress of our training job we need to call the `wait()` method."
   ]
  },
  {
   "cell_type": "code",
   "execution_count": null,
   "metadata": {},
   "outputs": [
    {
     "name": "stdout",
     "output_type": "stream",
     "text": [
      "....................................................................................................................................................."
     ]
    }
   ],
   "source": [
    "xgb_hyperparameter_tuner.wait()"
   ]
  },
  {
   "cell_type": "markdown",
   "metadata": {},
   "source": [
    "### (TODO) Testing the model\n",
    "\n",
    "Now that we've run our hyperparameter tuning job, it's time to see how well the best performing model actually performs. To do this we will use SageMaker's Batch Transform functionality. Batch Transform is a convenient way to perform inference on a large dataset in a way that is not realtime. That is, we don't necessarily need to use our model's results immediately and instead we can peform inference on a large number of samples. An example of this in industry might be peforming an end of month report. This method of inference can also be useful to us as it means to can perform inference on our entire test set. \n",
    "\n",
    "Remember that in order to create a transformer object to perform the batch transform job, we need a trained estimator object. We can do that using the `attach()` method, creating an estimator object which is attached to the best trained job."
   ]
  },
  {
   "cell_type": "code",
   "execution_count": 26,
   "metadata": {},
   "outputs": [
    {
     "name": "stdout",
     "output_type": "stream",
     "text": [
      "2020-04-21 11:46:03 Starting - Preparing the instances for training\n",
      "2020-04-21 11:46:03 Downloading - Downloading input data\n",
      "2020-04-21 11:46:03 Training - Training image download completed. Training in progress.\n",
      "2020-04-21 11:46:03 Uploading - Uploading generated training model\n",
      "2020-04-21 11:46:03 Completed - Training job completed\u001b[34mArguments: train\u001b[0m\n",
      "\u001b[34m[2020-04-21:11:35:50:INFO] Running standalone xgboost training.\u001b[0m\n",
      "\u001b[34m[2020-04-21:11:35:50:INFO] Setting up HPO optimized metric to be : rmse\u001b[0m\n",
      "\u001b[34m[2020-04-21:11:35:50:INFO] File size need to be processed in the node: 238.47mb. Available memory size in the node: 8484.13mb\u001b[0m\n",
      "\u001b[34m[2020-04-21:11:35:50:INFO] Determined delimiter of CSV input is ','\u001b[0m\n",
      "\u001b[34m[11:35:50] S3DistributionType set as FullyReplicated\u001b[0m\n",
      "\u001b[34m[11:35:52] 15000x5000 matrix with 75000000 entries loaded from /opt/ml/input/data/train?format=csv&label_column=0&delimiter=,\u001b[0m\n",
      "\u001b[34m[2020-04-21:11:35:52:INFO] Determined delimiter of CSV input is ','\u001b[0m\n",
      "\u001b[34m[11:35:52] S3DistributionType set as FullyReplicated\u001b[0m\n",
      "\u001b[34m[11:35:53] 10000x5000 matrix with 50000000 entries loaded from /opt/ml/input/data/validation?format=csv&label_column=0&delimiter=,\u001b[0m\n",
      "\u001b[34m[11:35:59] src/tree/updater_prune.cc:74: tree pruning end, 1 roots, 78 extra nodes, 78 pruned nodes, max_depth=10\u001b[0m\n",
      "\u001b[34m[0]#011train-rmse:0.477663#011validation-rmse:0.478707\u001b[0m\n",
      "\u001b[34mMultiple eval metrics have been passed: 'validation-rmse' will be used for early stopping.\n",
      "\u001b[0m\n",
      "\u001b[34mWill train until validation-rmse hasn't improved in 10 rounds.\u001b[0m\n",
      "\u001b[34m[11:36:02] src/tree/updater_prune.cc:74: tree pruning end, 1 roots, 74 extra nodes, 68 pruned nodes, max_depth=10\u001b[0m\n",
      "\u001b[34m[1]#011train-rmse:0.46047#011validation-rmse:0.462459\u001b[0m\n",
      "\u001b[34m[11:36:05] src/tree/updater_prune.cc:74: tree pruning end, 1 roots, 64 extra nodes, 70 pruned nodes, max_depth=10\u001b[0m\n",
      "\u001b[34m[2]#011train-rmse:0.447139#011validation-rmse:0.450523\u001b[0m\n",
      "\u001b[34m[11:36:07] src/tree/updater_prune.cc:74: tree pruning end, 1 roots, 76 extra nodes, 84 pruned nodes, max_depth=10\u001b[0m\n",
      "\u001b[34m[3]#011train-rmse:0.436154#011validation-rmse:0.440663\u001b[0m\n",
      "\u001b[34m[11:36:10] src/tree/updater_prune.cc:74: tree pruning end, 1 roots, 48 extra nodes, 74 pruned nodes, max_depth=10\u001b[0m\n",
      "\u001b[34m[4]#011train-rmse:0.427134#011validation-rmse:0.432073\u001b[0m\n",
      "\u001b[34m[11:36:13] src/tree/updater_prune.cc:74: tree pruning end, 1 roots, 70 extra nodes, 90 pruned nodes, max_depth=10\u001b[0m\n",
      "\u001b[34m[5]#011train-rmse:0.419108#011validation-rmse:0.425314\u001b[0m\n",
      "\u001b[34m[11:36:16] src/tree/updater_prune.cc:74: tree pruning end, 1 roots, 32 extra nodes, 78 pruned nodes, max_depth=10\u001b[0m\n",
      "\u001b[34m[6]#011train-rmse:0.412555#011validation-rmse:0.419454\u001b[0m\n",
      "\u001b[34m[11:36:19] src/tree/updater_prune.cc:74: tree pruning end, 1 roots, 44 extra nodes, 76 pruned nodes, max_depth=10\u001b[0m\n",
      "\u001b[34m[7]#011train-rmse:0.406814#011validation-rmse:0.414613\u001b[0m\n",
      "\u001b[34m[11:36:21] src/tree/updater_prune.cc:74: tree pruning end, 1 roots, 54 extra nodes, 44 pruned nodes, max_depth=10\u001b[0m\n",
      "\u001b[34m[8]#011train-rmse:0.401172#011validation-rmse:0.409696\u001b[0m\n",
      "\u001b[34m[11:36:24] src/tree/updater_prune.cc:74: tree pruning end, 1 roots, 32 extra nodes, 72 pruned nodes, max_depth=10\u001b[0m\n",
      "\u001b[34m[9]#011train-rmse:0.3964#011validation-rmse:0.405284\u001b[0m\n",
      "\u001b[34m[11:36:27] src/tree/updater_prune.cc:74: tree pruning end, 1 roots, 56 extra nodes, 68 pruned nodes, max_depth=10\u001b[0m\n",
      "\u001b[34m[10]#011train-rmse:0.39138#011validation-rmse:0.40158\u001b[0m\n",
      "\u001b[34m[11:36:30] src/tree/updater_prune.cc:74: tree pruning end, 1 roots, 58 extra nodes, 82 pruned nodes, max_depth=10\u001b[0m\n",
      "\u001b[34m[11]#011train-rmse:0.386588#011validation-rmse:0.397574\u001b[0m\n",
      "\u001b[34m[11:36:32] src/tree/updater_prune.cc:74: tree pruning end, 1 roots, 54 extra nodes, 80 pruned nodes, max_depth=10\u001b[0m\n",
      "\u001b[34m[12]#011train-rmse:0.382532#011validation-rmse:0.39445\u001b[0m\n",
      "\u001b[34m[11:36:35] src/tree/updater_prune.cc:74: tree pruning end, 1 roots, 56 extra nodes, 70 pruned nodes, max_depth=10\u001b[0m\n",
      "\u001b[34m[13]#011train-rmse:0.378562#011validation-rmse:0.391663\u001b[0m\n",
      "\u001b[34m[11:36:38] src/tree/updater_prune.cc:74: tree pruning end, 1 roots, 44 extra nodes, 40 pruned nodes, max_depth=10\u001b[0m\n",
      "\u001b[34m[14]#011train-rmse:0.374667#011validation-rmse:0.38838\u001b[0m\n",
      "\u001b[34m[11:36:41] src/tree/updater_prune.cc:74: tree pruning end, 1 roots, 54 extra nodes, 74 pruned nodes, max_depth=10\u001b[0m\n",
      "\u001b[34m[15]#011train-rmse:0.371085#011validation-rmse:0.38568\u001b[0m\n",
      "\u001b[34m[11:36:43] src/tree/updater_prune.cc:74: tree pruning end, 1 roots, 42 extra nodes, 86 pruned nodes, max_depth=10\u001b[0m\n",
      "\u001b[34m[16]#011train-rmse:0.367673#011validation-rmse:0.383141\u001b[0m\n",
      "\u001b[34m[11:36:46] src/tree/updater_prune.cc:74: tree pruning end, 1 roots, 32 extra nodes, 68 pruned nodes, max_depth=10\u001b[0m\n",
      "\u001b[34m[17]#011train-rmse:0.364974#011validation-rmse:0.381094\u001b[0m\n",
      "\u001b[34m[11:36:49] src/tree/updater_prune.cc:74: tree pruning end, 1 roots, 36 extra nodes, 56 pruned nodes, max_depth=10\u001b[0m\n",
      "\u001b[34m[18]#011train-rmse:0.362394#011validation-rmse:0.379338\u001b[0m\n",
      "\u001b[34m[11:36:52] src/tree/updater_prune.cc:74: tree pruning end, 1 roots, 32 extra nodes, 60 pruned nodes, max_depth=10\u001b[0m\n",
      "\u001b[34m[19]#011train-rmse:0.359588#011validation-rmse:0.377169\u001b[0m\n",
      "\u001b[34m[11:36:54] src/tree/updater_prune.cc:74: tree pruning end, 1 roots, 32 extra nodes, 76 pruned nodes, max_depth=10\u001b[0m\n",
      "\u001b[34m[20]#011train-rmse:0.357282#011validation-rmse:0.375129\u001b[0m\n",
      "\u001b[34m[11:36:57] src/tree/updater_prune.cc:74: tree pruning end, 1 roots, 28 extra nodes, 60 pruned nodes, max_depth=10\u001b[0m\n",
      "\u001b[34m[21]#011train-rmse:0.354826#011validation-rmse:0.373095\u001b[0m\n",
      "\u001b[34m[11:37:00] src/tree/updater_prune.cc:74: tree pruning end, 1 roots, 36 extra nodes, 56 pruned nodes, max_depth=10\u001b[0m\n",
      "\u001b[34m[22]#011train-rmse:0.352619#011validation-rmse:0.371399\u001b[0m\n",
      "\u001b[34m[11:37:03] src/tree/updater_prune.cc:74: tree pruning end, 1 roots, 28 extra nodes, 40 pruned nodes, max_depth=10\u001b[0m\n",
      "\u001b[34m[23]#011train-rmse:0.350628#011validation-rmse:0.369577\u001b[0m\n",
      "\u001b[34m[11:37:05] src/tree/updater_prune.cc:74: tree pruning end, 1 roots, 28 extra nodes, 64 pruned nodes, max_depth=10\u001b[0m\n",
      "\u001b[34m[24]#011train-rmse:0.348608#011validation-rmse:0.367843\u001b[0m\n",
      "\u001b[34m[11:37:08] src/tree/updater_prune.cc:74: tree pruning end, 1 roots, 26 extra nodes, 56 pruned nodes, max_depth=10\u001b[0m\n",
      "\u001b[34m[25]#011train-rmse:0.346712#011validation-rmse:0.366081\u001b[0m\n",
      "\u001b[34m[11:37:11] src/tree/updater_prune.cc:74: tree pruning end, 1 roots, 26 extra nodes, 56 pruned nodes, max_depth=10\u001b[0m\n",
      "\u001b[34m[26]#011train-rmse:0.344933#011validation-rmse:0.364375\u001b[0m\n",
      "\u001b[34m[11:37:14] src/tree/updater_prune.cc:74: tree pruning end, 1 roots, 52 extra nodes, 54 pruned nodes, max_depth=10\u001b[0m\n",
      "\u001b[34m[27]#011train-rmse:0.342684#011validation-rmse:0.363039\u001b[0m\n",
      "\u001b[34m[11:37:17] src/tree/updater_prune.cc:74: tree pruning end, 1 roots, 24 extra nodes, 66 pruned nodes, max_depth=10\u001b[0m\n",
      "\u001b[34m[28]#011train-rmse:0.341049#011validation-rmse:0.361669\u001b[0m\n",
      "\u001b[34m[11:37:19] src/tree/updater_prune.cc:74: tree pruning end, 1 roots, 26 extra nodes, 58 pruned nodes, max_depth=10\u001b[0m\n",
      "\u001b[34m[29]#011train-rmse:0.339411#011validation-rmse:0.360598\u001b[0m\n",
      "\u001b[34m[11:37:22] src/tree/updater_prune.cc:74: tree pruning end, 1 roots, 34 extra nodes, 98 pruned nodes, max_depth=10\u001b[0m\n",
      "\u001b[34m[30]#011train-rmse:0.337699#011validation-rmse:0.359448\u001b[0m\n",
      "\u001b[34m[11:37:25] src/tree/updater_prune.cc:74: tree pruning end, 1 roots, 34 extra nodes, 58 pruned nodes, max_depth=10\u001b[0m\n",
      "\u001b[34m[31]#011train-rmse:0.335854#011validation-rmse:0.358292\u001b[0m\n",
      "\u001b[34m[11:37:28] src/tree/updater_prune.cc:74: tree pruning end, 1 roots, 24 extra nodes, 60 pruned nodes, max_depth=10\u001b[0m\n",
      "\u001b[34m[32]#011train-rmse:0.334518#011validation-rmse:0.357261\u001b[0m\n",
      "\u001b[34m[11:37:30] src/tree/updater_prune.cc:74: tree pruning end, 1 roots, 36 extra nodes, 72 pruned nodes, max_depth=10\u001b[0m\n",
      "\u001b[34m[33]#011train-rmse:0.332775#011validation-rmse:0.355878\u001b[0m\n",
      "\u001b[34m[11:37:33] src/tree/updater_prune.cc:74: tree pruning end, 1 roots, 24 extra nodes, 58 pruned nodes, max_depth=10\u001b[0m\n",
      "\u001b[34m[34]#011train-rmse:0.331413#011validation-rmse:0.354697\u001b[0m\n",
      "\u001b[34m[11:37:36] src/tree/updater_prune.cc:74: tree pruning end, 1 roots, 22 extra nodes, 36 pruned nodes, max_depth=10\u001b[0m\n",
      "\u001b[34m[35]#011train-rmse:0.33013#011validation-rmse:0.353621\u001b[0m\n",
      "\u001b[34m[11:37:39] src/tree/updater_prune.cc:74: tree pruning end, 1 roots, 38 extra nodes, 48 pruned nodes, max_depth=10\u001b[0m\n",
      "\u001b[34m[36]#011train-rmse:0.328568#011validation-rmse:0.352571\u001b[0m\n",
      "\u001b[34m[11:37:41] src/tree/updater_prune.cc:74: tree pruning end, 1 roots, 22 extra nodes, 84 pruned nodes, max_depth=10\u001b[0m\n",
      "\u001b[34m[37]#011train-rmse:0.327317#011validation-rmse:0.351524\u001b[0m\n",
      "\u001b[34m[11:37:44] src/tree/updater_prune.cc:74: tree pruning end, 1 roots, 20 extra nodes, 30 pruned nodes, max_depth=10\u001b[0m\n",
      "\u001b[34m[38]#011train-rmse:0.326086#011validation-rmse:0.350721\u001b[0m\n",
      "\u001b[34m[11:37:47] src/tree/updater_prune.cc:74: tree pruning end, 1 roots, 24 extra nodes, 28 pruned nodes, max_depth=10\u001b[0m\n",
      "\u001b[34m[39]#011train-rmse:0.324825#011validation-rmse:0.349669\u001b[0m\n",
      "\u001b[34m[11:37:50] src/tree/updater_prune.cc:74: tree pruning end, 1 roots, 24 extra nodes, 50 pruned nodes, max_depth=10\u001b[0m\n",
      "\u001b[34m[40]#011train-rmse:0.323643#011validation-rmse:0.34892\u001b[0m\n",
      "\u001b[34m[11:37:52] src/tree/updater_prune.cc:74: tree pruning end, 1 roots, 32 extra nodes, 48 pruned nodes, max_depth=10\u001b[0m\n",
      "\u001b[34m[41]#011train-rmse:0.322271#011validation-rmse:0.348284\u001b[0m\n",
      "\u001b[34m[11:37:55] src/tree/updater_prune.cc:74: tree pruning end, 1 roots, 24 extra nodes, 48 pruned nodes, max_depth=10\u001b[0m\n",
      "\u001b[34m[42]#011train-rmse:0.321253#011validation-rmse:0.347484\u001b[0m\n",
      "\u001b[34m[11:37:58] src/tree/updater_prune.cc:74: tree pruning end, 1 roots, 28 extra nodes, 94 pruned nodes, max_depth=10\u001b[0m\n",
      "\u001b[34m[43]#011train-rmse:0.320141#011validation-rmse:0.346621\u001b[0m\n",
      "\u001b[34m[11:38:01] src/tree/updater_prune.cc:74: tree pruning end, 1 roots, 28 extra nodes, 78 pruned nodes, max_depth=10\u001b[0m\n",
      "\u001b[34m[44]#011train-rmse:0.31903#011validation-rmse:0.345709\u001b[0m\n",
      "\u001b[34m[11:38:03] src/tree/updater_prune.cc:74: tree pruning end, 1 roots, 26 extra nodes, 52 pruned nodes, max_depth=10\u001b[0m\n",
      "\u001b[34m[45]#011train-rmse:0.317815#011validation-rmse:0.344924\u001b[0m\n",
      "\u001b[34m[11:38:06] src/tree/updater_prune.cc:74: tree pruning end, 1 roots, 24 extra nodes, 68 pruned nodes, max_depth=10\u001b[0m\n",
      "\u001b[34m[46]#011train-rmse:0.316929#011validation-rmse:0.344353\u001b[0m\n",
      "\u001b[34m[11:38:09] src/tree/updater_prune.cc:74: tree pruning end, 1 roots, 24 extra nodes, 52 pruned nodes, max_depth=10\u001b[0m\n",
      "\u001b[34m[47]#011train-rmse:0.315798#011validation-rmse:0.343455\u001b[0m\n",
      "\u001b[34m[11:38:12] src/tree/updater_prune.cc:74: tree pruning end, 1 roots, 32 extra nodes, 66 pruned nodes, max_depth=10\u001b[0m\n",
      "\u001b[34m[48]#011train-rmse:0.314677#011validation-rmse:0.342884\u001b[0m\n",
      "\u001b[34m[11:38:14] src/tree/updater_prune.cc:74: tree pruning end, 1 roots, 22 extra nodes, 32 pruned nodes, max_depth=10\u001b[0m\n",
      "\u001b[34m[49]#011train-rmse:0.313643#011validation-rmse:0.342127\u001b[0m\n",
      "\u001b[34m[11:38:17] src/tree/updater_prune.cc:74: tree pruning end, 1 roots, 22 extra nodes, 32 pruned nodes, max_depth=10\u001b[0m\n",
      "\u001b[34m[50]#011train-rmse:0.312741#011validation-rmse:0.341498\u001b[0m\n",
      "\u001b[34m[11:38:20] src/tree/updater_prune.cc:74: tree pruning end, 1 roots, 22 extra nodes, 58 pruned nodes, max_depth=10\u001b[0m\n",
      "\u001b[34m[51]#011train-rmse:0.311787#011validation-rmse:0.340815\u001b[0m\n",
      "\u001b[34m[11:38:23] src/tree/updater_prune.cc:74: tree pruning end, 1 roots, 22 extra nodes, 60 pruned nodes, max_depth=10\u001b[0m\n",
      "\u001b[34m[52]#011train-rmse:0.310979#011validation-rmse:0.340315\u001b[0m\n",
      "\u001b[34m[11:38:26] src/tree/updater_prune.cc:74: tree pruning end, 1 roots, 22 extra nodes, 44 pruned nodes, max_depth=10\u001b[0m\n",
      "\u001b[34m[53]#011train-rmse:0.310091#011validation-rmse:0.339902\u001b[0m\n",
      "\u001b[34m[11:38:28] src/tree/updater_prune.cc:74: tree pruning end, 1 roots, 20 extra nodes, 38 pruned nodes, max_depth=10\u001b[0m\n",
      "\u001b[34m[54]#011train-rmse:0.309305#011validation-rmse:0.339288\u001b[0m\n",
      "\u001b[34m[11:38:31] src/tree/updater_prune.cc:74: tree pruning end, 1 roots, 22 extra nodes, 42 pruned nodes, max_depth=10\u001b[0m\n",
      "\u001b[34m[55]#011train-rmse:0.308405#011validation-rmse:0.338788\u001b[0m\n",
      "\u001b[34m[11:38:34] src/tree/updater_prune.cc:74: tree pruning end, 1 roots, 30 extra nodes, 50 pruned nodes, max_depth=10\u001b[0m\n",
      "\u001b[34m[56]#011train-rmse:0.307481#011validation-rmse:0.338444\u001b[0m\n",
      "\u001b[34m[11:38:37] src/tree/updater_prune.cc:74: tree pruning end, 1 roots, 20 extra nodes, 34 pruned nodes, max_depth=10\u001b[0m\n",
      "\u001b[34m[57]#011train-rmse:0.30662#011validation-rmse:0.337809\u001b[0m\n",
      "\u001b[34m[11:38:39] src/tree/updater_prune.cc:74: tree pruning end, 1 roots, 22 extra nodes, 44 pruned nodes, max_depth=10\u001b[0m\n",
      "\u001b[34m[58]#011train-rmse:0.305778#011validation-rmse:0.337001\u001b[0m\n",
      "\u001b[34m[11:38:42] src/tree/updater_prune.cc:74: tree pruning end, 1 roots, 20 extra nodes, 26 pruned nodes, max_depth=10\u001b[0m\n",
      "\u001b[34m[59]#011train-rmse:0.305064#011validation-rmse:0.336696\u001b[0m\n",
      "\u001b[34m[11:38:45] src/tree/updater_prune.cc:74: tree pruning end, 1 roots, 22 extra nodes, 42 pruned nodes, max_depth=10\u001b[0m\n",
      "\u001b[34m[60]#011train-rmse:0.304383#011validation-rmse:0.336177\u001b[0m\n",
      "\u001b[34m[11:38:48] src/tree/updater_prune.cc:74: tree pruning end, 1 roots, 26 extra nodes, 36 pruned nodes, max_depth=10\u001b[0m\n",
      "\u001b[34m[61]#011train-rmse:0.30352#011validation-rmse:0.335675\u001b[0m\n",
      "\u001b[34m[11:38:50] src/tree/updater_prune.cc:74: tree pruning end, 1 roots, 20 extra nodes, 40 pruned nodes, max_depth=10\u001b[0m\n",
      "\u001b[34m[62]#011train-rmse:0.302819#011validation-rmse:0.335068\u001b[0m\n",
      "\u001b[34m[11:38:53] src/tree/updater_prune.cc:74: tree pruning end, 1 roots, 26 extra nodes, 64 pruned nodes, max_depth=10\u001b[0m\n",
      "\u001b[34m[63]#011train-rmse:0.302027#011validation-rmse:0.334502\u001b[0m\n",
      "\u001b[34m[11:38:56] src/tree/updater_prune.cc:74: tree pruning end, 1 roots, 22 extra nodes, 22 pruned nodes, max_depth=10\u001b[0m\n",
      "\u001b[34m[64]#011train-rmse:0.3012#011validation-rmse:0.333943\u001b[0m\n",
      "\u001b[34m[11:38:59] src/tree/updater_prune.cc:74: tree pruning end, 1 roots, 22 extra nodes, 14 pruned nodes, max_depth=10\u001b[0m\n",
      "\u001b[34m[65]#011train-rmse:0.300373#011validation-rmse:0.333199\u001b[0m\n",
      "\u001b[34m[11:39:01] src/tree/updater_prune.cc:74: tree pruning end, 1 roots, 20 extra nodes, 56 pruned nodes, max_depth=10\u001b[0m\n",
      "\u001b[34m[66]#011train-rmse:0.299683#011validation-rmse:0.332514\u001b[0m\n",
      "\u001b[34m[11:39:04] src/tree/updater_prune.cc:74: tree pruning end, 1 roots, 22 extra nodes, 72 pruned nodes, max_depth=10\u001b[0m\n",
      "\u001b[34m[67]#011train-rmse:0.29905#011validation-rmse:0.332145\u001b[0m\n",
      "\u001b[34m[11:39:07] src/tree/updater_prune.cc:74: tree pruning end, 1 roots, 22 extra nodes, 68 pruned nodes, max_depth=10\u001b[0m\n",
      "\u001b[34m[68]#011train-rmse:0.298376#011validation-rmse:0.331933\u001b[0m\n",
      "\u001b[34m[11:39:10] src/tree/updater_prune.cc:74: tree pruning end, 1 roots, 20 extra nodes, 40 pruned nodes, max_depth=10\u001b[0m\n",
      "\u001b[34m[69]#011train-rmse:0.297694#011validation-rmse:0.331413\u001b[0m\n",
      "\u001b[34m[11:39:12] src/tree/updater_prune.cc:74: tree pruning end, 1 roots, 22 extra nodes, 30 pruned nodes, max_depth=10\u001b[0m\n",
      "\u001b[34m[70]#011train-rmse:0.296888#011validation-rmse:0.331007\u001b[0m\n",
      "\u001b[34m[11:39:15] src/tree/updater_prune.cc:74: tree pruning end, 1 roots, 20 extra nodes, 56 pruned nodes, max_depth=10\u001b[0m\n",
      "\u001b[34m[71]#011train-rmse:0.296349#011validation-rmse:0.330659\u001b[0m\n",
      "\u001b[34m[11:39:18] src/tree/updater_prune.cc:74: tree pruning end, 1 roots, 28 extra nodes, 88 pruned nodes, max_depth=8\u001b[0m\n",
      "\u001b[34m[72]#011train-rmse:0.295509#011validation-rmse:0.330101\u001b[0m\n",
      "\u001b[34m[11:39:21] src/tree/updater_prune.cc:74: tree pruning end, 1 roots, 22 extra nodes, 56 pruned nodes, max_depth=8\u001b[0m\n",
      "\u001b[34m[73]#011train-rmse:0.294747#011validation-rmse:0.329914\u001b[0m\n",
      "\u001b[34m[11:39:23] src/tree/updater_prune.cc:74: tree pruning end, 1 roots, 20 extra nodes, 42 pruned nodes, max_depth=10\u001b[0m\n",
      "\u001b[34m[74]#011train-rmse:0.294129#011validation-rmse:0.329487\u001b[0m\n",
      "\u001b[34m[11:39:26] src/tree/updater_prune.cc:74: tree pruning end, 1 roots, 20 extra nodes, 52 pruned nodes, max_depth=10\u001b[0m\n",
      "\u001b[34m[75]#011train-rmse:0.293501#011validation-rmse:0.329206\u001b[0m\n",
      "\u001b[34m[11:39:29] src/tree/updater_prune.cc:74: tree pruning end, 1 roots, 22 extra nodes, 28 pruned nodes, max_depth=10\u001b[0m\n",
      "\u001b[34m[76]#011train-rmse:0.292792#011validation-rmse:0.328755\u001b[0m\n",
      "\u001b[34m[11:39:32] src/tree/updater_prune.cc:74: tree pruning end, 1 roots, 18 extra nodes, 26 pruned nodes, max_depth=9\u001b[0m\n",
      "\u001b[34m[77]#011train-rmse:0.292203#011validation-rmse:0.328424\u001b[0m\n",
      "\u001b[34m[11:39:35] src/tree/updater_prune.cc:74: tree pruning end, 1 roots, 20 extra nodes, 18 pruned nodes, max_depth=10\u001b[0m\n",
      "\u001b[34m[78]#011train-rmse:0.291663#011validation-rmse:0.328086\u001b[0m\n",
      "\u001b[34m[11:39:37] src/tree/updater_prune.cc:74: tree pruning end, 1 roots, 22 extra nodes, 24 pruned nodes, max_depth=10\u001b[0m\n",
      "\u001b[34m[79]#011train-rmse:0.291146#011validation-rmse:0.327854\u001b[0m\n",
      "\u001b[34m[11:39:40] src/tree/updater_prune.cc:74: tree pruning end, 1 roots, 22 extra nodes, 50 pruned nodes, max_depth=10\u001b[0m\n",
      "\u001b[34m[80]#011train-rmse:0.290443#011validation-rmse:0.327374\u001b[0m\n",
      "\u001b[34m[11:39:43] src/tree/updater_prune.cc:74: tree pruning end, 1 roots, 18 extra nodes, 46 pruned nodes, max_depth=9\u001b[0m\n",
      "\u001b[34m[81]#011train-rmse:0.289913#011validation-rmse:0.32678\u001b[0m\n",
      "\u001b[34m[11:39:46] src/tree/updater_prune.cc:74: tree pruning end, 1 roots, 18 extra nodes, 52 pruned nodes, max_depth=9\u001b[0m\n",
      "\u001b[34m[82]#011train-rmse:0.289456#011validation-rmse:0.326303\u001b[0m\n",
      "\u001b[34m[11:39:48] src/tree/updater_prune.cc:74: tree pruning end, 1 roots, 18 extra nodes, 56 pruned nodes, max_depth=7\u001b[0m\n",
      "\u001b[34m[83]#011train-rmse:0.288958#011validation-rmse:0.325902\u001b[0m\n",
      "\u001b[34m[11:39:51] src/tree/updater_prune.cc:74: tree pruning end, 1 roots, 18 extra nodes, 40 pruned nodes, max_depth=8\u001b[0m\n",
      "\u001b[34m[84]#011train-rmse:0.288428#011validation-rmse:0.325674\u001b[0m\n",
      "\u001b[34m[11:39:54] src/tree/updater_prune.cc:74: tree pruning end, 1 roots, 20 extra nodes, 36 pruned nodes, max_depth=10\u001b[0m\n",
      "\u001b[34m[85]#011train-rmse:0.287925#011validation-rmse:0.325466\u001b[0m\n",
      "\u001b[34m[11:39:57] src/tree/updater_prune.cc:74: tree pruning end, 1 roots, 10 extra nodes, 40 pruned nodes, max_depth=5\u001b[0m\n",
      "\u001b[34m[86]#011train-rmse:0.287679#011validation-rmse:0.325268\u001b[0m\n",
      "\u001b[34m[11:39:59] src/tree/updater_prune.cc:74: tree pruning end, 1 roots, 16 extra nodes, 20 pruned nodes, max_depth=8\u001b[0m\n",
      "\u001b[34m[87]#011train-rmse:0.287259#011validation-rmse:0.325054\u001b[0m\n",
      "\u001b[34m[11:40:02] src/tree/updater_prune.cc:74: tree pruning end, 1 roots, 16 extra nodes, 38 pruned nodes, max_depth=8\u001b[0m\n",
      "\u001b[34m[88]#011train-rmse:0.286788#011validation-rmse:0.324784\u001b[0m\n",
      "\u001b[34m[11:40:05] src/tree/updater_prune.cc:74: tree pruning end, 1 roots, 20 extra nodes, 38 pruned nodes, max_depth=10\u001b[0m\n",
      "\u001b[34m[89]#011train-rmse:0.2862#011validation-rmse:0.324511\u001b[0m\n",
      "\u001b[34m[11:40:08] src/tree/updater_prune.cc:74: tree pruning end, 1 roots, 22 extra nodes, 20 pruned nodes, max_depth=9\u001b[0m\n",
      "\u001b[34m[90]#011train-rmse:0.285664#011validation-rmse:0.324267\u001b[0m\n",
      "\u001b[34m[11:40:10] src/tree/updater_prune.cc:74: tree pruning end, 1 roots, 20 extra nodes, 46 pruned nodes, max_depth=9\u001b[0m\n",
      "\u001b[34m[91]#011train-rmse:0.285167#011validation-rmse:0.323917\u001b[0m\n",
      "\u001b[34m[11:40:13] src/tree/updater_prune.cc:74: tree pruning end, 1 roots, 18 extra nodes, 34 pruned nodes, max_depth=9\u001b[0m\n",
      "\u001b[34m[92]#011train-rmse:0.284722#011validation-rmse:0.323577\u001b[0m\n",
      "\u001b[34m[11:40:16] src/tree/updater_prune.cc:74: tree pruning end, 1 roots, 16 extra nodes, 38 pruned nodes, max_depth=8\u001b[0m\n",
      "\u001b[34m[93]#011train-rmse:0.284347#011validation-rmse:0.3234\u001b[0m\n",
      "\u001b[34m[11:40:19] src/tree/updater_prune.cc:74: tree pruning end, 1 roots, 22 extra nodes, 50 pruned nodes, max_depth=10\u001b[0m\n",
      "\u001b[34m[94]#011train-rmse:0.283671#011validation-rmse:0.32329\u001b[0m\n",
      "\u001b[34m[11:40:21] src/tree/updater_prune.cc:74: tree pruning end, 1 roots, 20 extra nodes, 52 pruned nodes, max_depth=10\u001b[0m\n",
      "\u001b[34m[95]#011train-rmse:0.283162#011validation-rmse:0.323006\u001b[0m\n",
      "\u001b[34m[11:40:24] src/tree/updater_prune.cc:74: tree pruning end, 1 roots, 20 extra nodes, 34 pruned nodes, max_depth=10\u001b[0m\n",
      "\u001b[34m[96]#011train-rmse:0.282663#011validation-rmse:0.322676\u001b[0m\n",
      "\u001b[34m[11:40:27] src/tree/updater_prune.cc:74: tree pruning end, 1 roots, 10 extra nodes, 28 pruned nodes, max_depth=4\u001b[0m\n",
      "\u001b[34m[97]#011train-rmse:0.282373#011validation-rmse:0.322561\u001b[0m\n",
      "\u001b[34m[11:40:30] src/tree/updater_prune.cc:74: tree pruning end, 1 roots, 18 extra nodes, 26 pruned nodes, max_depth=9\u001b[0m\n",
      "\u001b[34m[98]#011train-rmse:0.281929#011validation-rmse:0.322273\u001b[0m\n",
      "\u001b[34m[11:40:32] src/tree/updater_prune.cc:74: tree pruning end, 1 roots, 12 extra nodes, 56 pruned nodes, max_depth=6\u001b[0m\n",
      "\u001b[34m[99]#011train-rmse:0.281589#011validation-rmse:0.322143\u001b[0m\n",
      "\u001b[34m[11:40:35] src/tree/updater_prune.cc:74: tree pruning end, 1 roots, 16 extra nodes, 54 pruned nodes, max_depth=8\u001b[0m\n",
      "\u001b[34m[100]#011train-rmse:0.281213#011validation-rmse:0.322147\u001b[0m\n",
      "\u001b[34m[11:40:38] src/tree/updater_prune.cc:74: tree pruning end, 1 roots, 22 extra nodes, 70 pruned nodes, max_depth=9\u001b[0m\n",
      "\u001b[34m[101]#011train-rmse:0.280658#011validation-rmse:0.321895\u001b[0m\n",
      "\u001b[34m[11:40:41] src/tree/updater_prune.cc:74: tree pruning end, 1 roots, 20 extra nodes, 22 pruned nodes, max_depth=10\u001b[0m\n",
      "\u001b[34m[102]#011train-rmse:0.280258#011validation-rmse:0.321521\u001b[0m\n",
      "\u001b[34m[11:40:43] src/tree/updater_prune.cc:74: tree pruning end, 1 roots, 20 extra nodes, 38 pruned nodes, max_depth=10\u001b[0m\n",
      "\u001b[34m[103]#011train-rmse:0.279867#011validation-rmse:0.321412\u001b[0m\n",
      "\u001b[34m[11:40:46] src/tree/updater_prune.cc:74: tree pruning end, 1 roots, 0 extra nodes, 70 pruned nodes, max_depth=0\u001b[0m\n",
      "\u001b[34m[104]#011train-rmse:0.279865#011validation-rmse:0.321411\u001b[0m\n",
      "\u001b[34m[11:40:49] src/tree/updater_prune.cc:74: tree pruning end, 1 roots, 8 extra nodes, 72 pruned nodes, max_depth=4\u001b[0m\n",
      "\u001b[34m[105]#011train-rmse:0.279677#011validation-rmse:0.321173\u001b[0m\n",
      "\u001b[34m[11:40:52] src/tree/updater_prune.cc:74: tree pruning end, 1 roots, 20 extra nodes, 46 pruned nodes, max_depth=10\u001b[0m\n",
      "\u001b[34m[106]#011train-rmse:0.279265#011validation-rmse:0.320917\u001b[0m\n",
      "\u001b[34m[11:40:54] src/tree/updater_prune.cc:74: tree pruning end, 1 roots, 6 extra nodes, 24 pruned nodes, max_depth=3\u001b[0m\n",
      "\u001b[34m[107]#011train-rmse:0.279129#011validation-rmse:0.320814\u001b[0m\n",
      "\u001b[34m[11:40:57] src/tree/updater_prune.cc:74: tree pruning end, 1 roots, 18 extra nodes, 26 pruned nodes, max_depth=9\u001b[0m\n",
      "\u001b[34m[108]#011train-rmse:0.278706#011validation-rmse:0.320595\u001b[0m\n",
      "\u001b[34m[11:41:00] src/tree/updater_prune.cc:74: tree pruning end, 1 roots, 14 extra nodes, 40 pruned nodes, max_depth=7\u001b[0m\n",
      "\u001b[34m[109]#011train-rmse:0.278377#011validation-rmse:0.320413\u001b[0m\n",
      "\u001b[34m[11:41:03] src/tree/updater_prune.cc:74: tree pruning end, 1 roots, 4 extra nodes, 72 pruned nodes, max_depth=2\u001b[0m\n",
      "\u001b[34m[110]#011train-rmse:0.278291#011validation-rmse:0.320306\u001b[0m\n",
      "\u001b[34m[11:41:05] src/tree/updater_prune.cc:74: tree pruning end, 1 roots, 14 extra nodes, 42 pruned nodes, max_depth=7\u001b[0m\n",
      "\u001b[34m[111]#011train-rmse:0.277945#011validation-rmse:0.320111\u001b[0m\n",
      "\u001b[34m[11:41:08] src/tree/updater_prune.cc:74: tree pruning end, 1 roots, 18 extra nodes, 72 pruned nodes, max_depth=8\u001b[0m\n",
      "\u001b[34m[112]#011train-rmse:0.277505#011validation-rmse:0.319984\u001b[0m\n",
      "\u001b[34m[11:41:11] src/tree/updater_prune.cc:74: tree pruning end, 1 roots, 14 extra nodes, 38 pruned nodes, max_depth=7\u001b[0m\n",
      "\u001b[34m[113]#011train-rmse:0.277169#011validation-rmse:0.31984\u001b[0m\n",
      "\u001b[34m[11:41:14] src/tree/updater_prune.cc:74: tree pruning end, 1 roots, 20 extra nodes, 50 pruned nodes, max_depth=10\u001b[0m\n",
      "\u001b[34m[114]#011train-rmse:0.276736#011validation-rmse:0.319441\u001b[0m\n",
      "\u001b[34m[11:41:17] src/tree/updater_prune.cc:74: tree pruning end, 1 roots, 0 extra nodes, 38 pruned nodes, max_depth=0\u001b[0m\n",
      "\u001b[34m[115]#011train-rmse:0.27674#011validation-rmse:0.319443\u001b[0m\n",
      "\u001b[34m[11:41:19] src/tree/updater_prune.cc:74: tree pruning end, 1 roots, 2 extra nodes, 24 pruned nodes, max_depth=1\u001b[0m\n",
      "\u001b[34m[116]#011train-rmse:0.276694#011validation-rmse:0.319508\u001b[0m\n",
      "\u001b[34m[11:41:22] src/tree/updater_prune.cc:74: tree pruning end, 1 roots, 0 extra nodes, 46 pruned nodes, max_depth=0\u001b[0m\n",
      "\u001b[34m[117]#011train-rmse:0.276686#011validation-rmse:0.319505\u001b[0m\n",
      "\u001b[34m[11:41:25] src/tree/updater_prune.cc:74: tree pruning end, 1 roots, 2 extra nodes, 44 pruned nodes, max_depth=1\u001b[0m\n",
      "\u001b[34m[118]#011train-rmse:0.27664#011validation-rmse:0.319464\u001b[0m\n",
      "\u001b[34m[11:41:27] src/tree/updater_prune.cc:74: tree pruning end, 1 roots, 24 extra nodes, 26 pruned nodes, max_depth=10\u001b[0m\n",
      "\u001b[34m[119]#011train-rmse:0.276043#011validation-rmse:0.319185\u001b[0m\n",
      "\u001b[34m[11:41:30] src/tree/updater_prune.cc:74: tree pruning end, 1 roots, 12 extra nodes, 48 pruned nodes, max_depth=6\u001b[0m\n",
      "\u001b[34m[120]#011train-rmse:0.275753#011validation-rmse:0.319034\u001b[0m\n",
      "\u001b[34m[11:41:33] src/tree/updater_prune.cc:74: tree pruning end, 1 roots, 0 extra nodes, 40 pruned nodes, max_depth=0\u001b[0m\n",
      "\u001b[34m[121]#011train-rmse:0.275762#011validation-rmse:0.319038\u001b[0m\n",
      "\u001b[34m[11:41:36] src/tree/updater_prune.cc:74: tree pruning end, 1 roots, 2 extra nodes, 40 pruned nodes, max_depth=1\u001b[0m\n",
      "\u001b[34m[122]#011train-rmse:0.275719#011validation-rmse:0.318996\u001b[0m\n",
      "\u001b[34m[11:41:39] src/tree/updater_prune.cc:74: tree pruning end, 1 roots, 8 extra nodes, 36 pruned nodes, max_depth=4\u001b[0m\n",
      "\u001b[34m[123]#011train-rmse:0.275559#011validation-rmse:0.319033\u001b[0m\n",
      "\u001b[34m[11:41:41] src/tree/updater_prune.cc:74: tree pruning end, 1 roots, 0 extra nodes, 52 pruned nodes, max_depth=0\u001b[0m\n",
      "\u001b[34m[124]#011train-rmse:0.275559#011validation-rmse:0.319033\u001b[0m\n",
      "\u001b[34m[11:41:44] src/tree/updater_prune.cc:74: tree pruning end, 1 roots, 20 extra nodes, 40 pruned nodes, max_depth=10\u001b[0m\n",
      "\u001b[34m[125]#011train-rmse:0.27511#011validation-rmse:0.318743\u001b[0m\n",
      "\u001b[34m[11:41:47] src/tree/updater_prune.cc:74: tree pruning end, 1 roots, 16 extra nodes, 42 pruned nodes, max_depth=8\u001b[0m\n",
      "\u001b[34m[126]#011train-rmse:0.274766#011validation-rmse:0.318803\u001b[0m\n",
      "\u001b[34m[11:41:50] src/tree/updater_prune.cc:74: tree pruning end, 1 roots, 16 extra nodes, 62 pruned nodes, max_depth=7\u001b[0m\n",
      "\u001b[34m[127]#011train-rmse:0.274416#011validation-rmse:0.318714\u001b[0m\n",
      "\u001b[34m[11:41:52] src/tree/updater_prune.cc:74: tree pruning end, 1 roots, 0 extra nodes, 56 pruned nodes, max_depth=0\u001b[0m\n",
      "\u001b[34m[128]#011train-rmse:0.274409#011validation-rmse:0.318711\u001b[0m\n",
      "\u001b[34m[11:41:55] src/tree/updater_prune.cc:74: tree pruning end, 1 roots, 6 extra nodes, 50 pruned nodes, max_depth=3\u001b[0m\n",
      "\u001b[34m[129]#011train-rmse:0.274247#011validation-rmse:0.318591\u001b[0m\n",
      "\u001b[34m[11:41:58] src/tree/updater_prune.cc:74: tree pruning end, 1 roots, 20 extra nodes, 58 pruned nodes, max_depth=10\u001b[0m\n",
      "\u001b[34m[130]#011train-rmse:0.273741#011validation-rmse:0.318217\u001b[0m\n",
      "\u001b[34m[11:42:01] src/tree/updater_prune.cc:74: tree pruning end, 1 roots, 20 extra nodes, 22 pruned nodes, max_depth=10\u001b[0m\n",
      "\u001b[34m[131]#011train-rmse:0.273287#011validation-rmse:0.31803\u001b[0m\n",
      "\u001b[34m[11:42:03] src/tree/updater_prune.cc:74: tree pruning end, 1 roots, 14 extra nodes, 58 pruned nodes, max_depth=7\u001b[0m\n",
      "\u001b[34m[132]#011train-rmse:0.272974#011validation-rmse:0.318006\u001b[0m\n",
      "\u001b[34m[11:42:06] src/tree/updater_prune.cc:74: tree pruning end, 1 roots, 2 extra nodes, 46 pruned nodes, max_depth=1\u001b[0m\n",
      "\u001b[34m[133]#011train-rmse:0.272952#011validation-rmse:0.317977\u001b[0m\n",
      "\u001b[34m[11:42:09] src/tree/updater_prune.cc:74: tree pruning end, 1 roots, 12 extra nodes, 62 pruned nodes, max_depth=6\u001b[0m\n",
      "\u001b[34m[134]#011train-rmse:0.272733#011validation-rmse:0.317955\u001b[0m\n",
      "\u001b[34m[11:42:12] src/tree/updater_prune.cc:74: tree pruning end, 1 roots, 0 extra nodes, 54 pruned nodes, max_depth=0\u001b[0m\n",
      "\u001b[34m[135]#011train-rmse:0.272731#011validation-rmse:0.317954\u001b[0m\n",
      "\u001b[34m[11:42:14] src/tree/updater_prune.cc:74: tree pruning end, 1 roots, 0 extra nodes, 34 pruned nodes, max_depth=0\u001b[0m\n",
      "\u001b[34m[136]#011train-rmse:0.272733#011validation-rmse:0.317955\u001b[0m\n",
      "\u001b[34m[11:42:17] src/tree/updater_prune.cc:74: tree pruning end, 1 roots, 14 extra nodes, 30 pruned nodes, max_depth=7\u001b[0m\n",
      "\u001b[34m[137]#011train-rmse:0.27245#011validation-rmse:0.317857\u001b[0m\n",
      "\u001b[34m[11:42:20] src/tree/updater_prune.cc:74: tree pruning end, 1 roots, 0 extra nodes, 52 pruned nodes, max_depth=0\u001b[0m\n",
      "\u001b[34m[138]#011train-rmse:0.272454#011validation-rmse:0.317858\u001b[0m\n",
      "\u001b[34m[11:42:23] src/tree/updater_prune.cc:74: tree pruning end, 1 roots, 18 extra nodes, 42 pruned nodes, max_depth=9\u001b[0m\n",
      "\u001b[34m[139]#011train-rmse:0.272051#011validation-rmse:0.317613\u001b[0m\n",
      "\u001b[34m[11:42:25] src/tree/updater_prune.cc:74: tree pruning end, 1 roots, 0 extra nodes, 50 pruned nodes, max_depth=0\u001b[0m\n",
      "\u001b[34m[140]#011train-rmse:0.272051#011validation-rmse:0.317613\u001b[0m\n",
      "\u001b[34m[11:42:28] src/tree/updater_prune.cc:74: tree pruning end, 1 roots, 0 extra nodes, 28 pruned nodes, max_depth=0\u001b[0m\n",
      "\u001b[34m[141]#011train-rmse:0.272051#011validation-rmse:0.317613\u001b[0m\n",
      "\u001b[34m[11:42:31] src/tree/updater_prune.cc:74: tree pruning end, 1 roots, 2 extra nodes, 66 pruned nodes, max_depth=1\u001b[0m\n",
      "\u001b[34m[142]#011train-rmse:0.272004#011validation-rmse:0.317578\u001b[0m\n",
      "\u001b[34m[11:42:34] src/tree/updater_prune.cc:74: tree pruning end, 1 roots, 0 extra nodes, 82 pruned nodes, max_depth=0\u001b[0m\n",
      "\u001b[34m[143]#011train-rmse:0.272005#011validation-rmse:0.317579\u001b[0m\n",
      "\u001b[34m[11:42:37] src/tree/updater_prune.cc:74: tree pruning end, 1 roots, 8 extra nodes, 44 pruned nodes, max_depth=4\u001b[0m\n",
      "\u001b[34m[144]#011train-rmse:0.271821#011validation-rmse:0.31756\u001b[0m\n",
      "\u001b[34m[11:42:39] src/tree/updater_prune.cc:74: tree pruning end, 1 roots, 14 extra nodes, 30 pruned nodes, max_depth=7\u001b[0m\n",
      "\u001b[34m[145]#011train-rmse:0.271493#011validation-rmse:0.317338\u001b[0m\n",
      "\u001b[34m[11:42:42] src/tree/updater_prune.cc:74: tree pruning end, 1 roots, 0 extra nodes, 40 pruned nodes, max_depth=0\u001b[0m\n",
      "\u001b[34m[146]#011train-rmse:0.271494#011validation-rmse:0.317338\u001b[0m\n",
      "\u001b[34m[11:42:45] src/tree/updater_prune.cc:74: tree pruning end, 1 roots, 2 extra nodes, 50 pruned nodes, max_depth=1\u001b[0m\n",
      "\u001b[34m[147]#011train-rmse:0.271454#011validation-rmse:0.317264\u001b[0m\n",
      "\u001b[34m[11:42:48] src/tree/updater_prune.cc:74: tree pruning end, 1 roots, 2 extra nodes, 32 pruned nodes, max_depth=1\u001b[0m\n",
      "\u001b[34m[148]#011train-rmse:0.271421#011validation-rmse:0.317192\u001b[0m\n",
      "\u001b[34m[11:42:50] src/tree/updater_prune.cc:74: tree pruning end, 1 roots, 0 extra nodes, 50 pruned nodes, max_depth=0\u001b[0m\n",
      "\u001b[34m[149]#011train-rmse:0.271418#011validation-rmse:0.317191\u001b[0m\n",
      "\u001b[34m[11:42:53] src/tree/updater_prune.cc:74: tree pruning end, 1 roots, 18 extra nodes, 62 pruned nodes, max_depth=9\u001b[0m\n",
      "\u001b[34m[150]#011train-rmse:0.271028#011validation-rmse:0.316965\u001b[0m\n",
      "\u001b[34m[11:42:56] src/tree/updater_prune.cc:74: tree pruning end, 1 roots, 0 extra nodes, 32 pruned nodes, max_depth=0\u001b[0m\n",
      "\u001b[34m[151]#011train-rmse:0.271027#011validation-rmse:0.316965\u001b[0m\n",
      "\u001b[34m[11:42:59] src/tree/updater_prune.cc:74: tree pruning end, 1 roots, 0 extra nodes, 56 pruned nodes, max_depth=0\u001b[0m\n",
      "\u001b[34m[152]#011train-rmse:0.271024#011validation-rmse:0.316964\u001b[0m\n",
      "\u001b[34m[11:43:01] src/tree/updater_prune.cc:74: tree pruning end, 1 roots, 0 extra nodes, 38 pruned nodes, max_depth=0\u001b[0m\n",
      "\u001b[34m[153]#011train-rmse:0.271029#011validation-rmse:0.316966\u001b[0m\n",
      "\u001b[34m[11:43:04] src/tree/updater_prune.cc:74: tree pruning end, 1 roots, 4 extra nodes, 26 pruned nodes, max_depth=2\u001b[0m\n",
      "\u001b[34m[154]#011train-rmse:0.27095#011validation-rmse:0.316925\u001b[0m\n",
      "\u001b[34m[11:43:07] src/tree/updater_prune.cc:74: tree pruning end, 1 roots, 0 extra nodes, 38 pruned nodes, max_depth=0\u001b[0m\n",
      "\u001b[34m[155]#011train-rmse:0.270957#011validation-rmse:0.316927\u001b[0m\n",
      "\u001b[34m[11:43:10] src/tree/updater_prune.cc:74: tree pruning end, 1 roots, 4 extra nodes, 22 pruned nodes, max_depth=2\u001b[0m\n",
      "\u001b[34m[156]#011train-rmse:0.270881#011validation-rmse:0.316838\u001b[0m\n",
      "\u001b[34m[11:43:12] src/tree/updater_prune.cc:74: tree pruning end, 1 roots, 12 extra nodes, 44 pruned nodes, max_depth=6\u001b[0m\n",
      "\u001b[34m[157]#011train-rmse:0.27059#011validation-rmse:0.316739\u001b[0m\n",
      "\u001b[34m[11:43:15] src/tree/updater_prune.cc:74: tree pruning end, 1 roots, 12 extra nodes, 34 pruned nodes, max_depth=6\u001b[0m\n",
      "\u001b[34m[158]#011train-rmse:0.270333#011validation-rmse:0.316639\u001b[0m\n",
      "\u001b[34m[11:43:18] src/tree/updater_prune.cc:74: tree pruning end, 1 roots, 0 extra nodes, 26 pruned nodes, max_depth=0\u001b[0m\n",
      "\u001b[34m[159]#011train-rmse:0.270333#011validation-rmse:0.316639\u001b[0m\n",
      "\u001b[34m[11:43:21] src/tree/updater_prune.cc:74: tree pruning end, 1 roots, 10 extra nodes, 56 pruned nodes, max_depth=5\u001b[0m\n",
      "\u001b[34m[160]#011train-rmse:0.270152#011validation-rmse:0.316579\u001b[0m\n",
      "\u001b[34m[11:43:23] src/tree/updater_prune.cc:74: tree pruning end, 1 roots, 0 extra nodes, 62 pruned nodes, max_depth=0\u001b[0m\n",
      "\u001b[34m[161]#011train-rmse:0.270152#011validation-rmse:0.316579\u001b[0m\n",
      "\u001b[34m[11:43:26] src/tree/updater_prune.cc:74: tree pruning end, 1 roots, 18 extra nodes, 20 pruned nodes, max_depth=9\u001b[0m\n",
      "\u001b[34m[162]#011train-rmse:0.269767#011validation-rmse:0.316412\u001b[0m\n",
      "\u001b[34m[11:43:29] src/tree/updater_prune.cc:74: tree pruning end, 1 roots, 10 extra nodes, 44 pruned nodes, max_depth=5\u001b[0m\n",
      "\u001b[34m[163]#011train-rmse:0.26957#011validation-rmse:0.316276\u001b[0m\n",
      "\u001b[34m[11:43:32] src/tree/updater_prune.cc:74: tree pruning end, 1 roots, 8 extra nodes, 56 pruned nodes, max_depth=4\u001b[0m\n",
      "\u001b[34m[164]#011train-rmse:0.269397#011validation-rmse:0.316136\u001b[0m\n",
      "\u001b[34m[11:43:34] src/tree/updater_prune.cc:74: tree pruning end, 1 roots, 18 extra nodes, 46 pruned nodes, max_depth=9\u001b[0m\n",
      "\u001b[34m[165]#011train-rmse:0.269029#011validation-rmse:0.31611\u001b[0m\n",
      "\u001b[34m[11:43:37] src/tree/updater_prune.cc:74: tree pruning end, 1 roots, 0 extra nodes, 40 pruned nodes, max_depth=0\u001b[0m\n",
      "\u001b[34m[166]#011train-rmse:0.269026#011validation-rmse:0.31611\u001b[0m\n",
      "\u001b[34m[11:43:40] src/tree/updater_prune.cc:74: tree pruning end, 1 roots, 2 extra nodes, 42 pruned nodes, max_depth=1\u001b[0m\n",
      "\u001b[34m[167]#011train-rmse:0.26903#011validation-rmse:0.316115\u001b[0m\n",
      "\u001b[34m[11:43:43] src/tree/updater_prune.cc:74: tree pruning end, 1 roots, 0 extra nodes, 68 pruned nodes, max_depth=0\u001b[0m\n",
      "\u001b[34m[168]#011train-rmse:0.269028#011validation-rmse:0.316115\u001b[0m\n",
      "\u001b[34m[11:43:46] src/tree/updater_prune.cc:74: tree pruning end, 1 roots, 4 extra nodes, 36 pruned nodes, max_depth=2\u001b[0m\n",
      "\u001b[34m[169]#011train-rmse:0.26893#011validation-rmse:0.316006\u001b[0m\n",
      "\u001b[34m[11:43:48] src/tree/updater_prune.cc:74: tree pruning end, 1 roots, 14 extra nodes, 58 pruned nodes, max_depth=7\u001b[0m\n",
      "\u001b[34m[170]#011train-rmse:0.268684#011validation-rmse:0.315896\u001b[0m\n",
      "\u001b[34m[11:43:51] src/tree/updater_prune.cc:74: tree pruning end, 1 roots, 10 extra nodes, 58 pruned nodes, max_depth=5\u001b[0m\n",
      "\u001b[34m[171]#011train-rmse:0.268501#011validation-rmse:0.315891\u001b[0m\n",
      "\u001b[34m[11:43:54] src/tree/updater_prune.cc:74: tree pruning end, 1 roots, 4 extra nodes, 44 pruned nodes, max_depth=2\u001b[0m\n",
      "\u001b[34m[172]#011train-rmse:0.268425#011validation-rmse:0.315944\u001b[0m\n",
      "\u001b[34m[11:43:57] src/tree/updater_prune.cc:74: tree pruning end, 1 roots, 0 extra nodes, 54 pruned nodes, max_depth=0\u001b[0m\n",
      "\u001b[34m[173]#011train-rmse:0.268429#011validation-rmse:0.315945\u001b[0m\n",
      "\u001b[34m[11:43:59] src/tree/updater_prune.cc:74: tree pruning end, 1 roots, 0 extra nodes, 48 pruned nodes, max_depth=0\u001b[0m\n",
      "\u001b[34m[174]#011train-rmse:0.268431#011validation-rmse:0.315945\u001b[0m\n",
      "\u001b[34m[11:44:02] src/tree/updater_prune.cc:74: tree pruning end, 1 roots, 14 extra nodes, 44 pruned nodes, max_depth=7\u001b[0m\n",
      "\u001b[34m[175]#011train-rmse:0.268171#011validation-rmse:0.315787\u001b[0m\n",
      "\u001b[34m[11:44:05] src/tree/updater_prune.cc:74: tree pruning end, 1 roots, 0 extra nodes, 34 pruned nodes, max_depth=0\u001b[0m\n",
      "\u001b[34m[176]#011train-rmse:0.268167#011validation-rmse:0.315786\u001b[0m\n",
      "\u001b[34m[11:44:08] src/tree/updater_prune.cc:74: tree pruning end, 1 roots, 0 extra nodes, 48 pruned nodes, max_depth=0\u001b[0m\n",
      "\u001b[34m[177]#011train-rmse:0.268166#011validation-rmse:0.315786\u001b[0m\n",
      "\u001b[34m[11:44:10] src/tree/updater_prune.cc:74: tree pruning end, 1 roots, 0 extra nodes, 52 pruned nodes, max_depth=0\u001b[0m\n",
      "\u001b[34m[178]#011train-rmse:0.268168#011validation-rmse:0.315787\u001b[0m\n",
      "\u001b[34m[11:44:13] src/tree/updater_prune.cc:74: tree pruning end, 1 roots, 0 extra nodes, 70 pruned nodes, max_depth=0\u001b[0m\n",
      "\u001b[34m[179]#011train-rmse:0.268173#011validation-rmse:0.315788\u001b[0m\n",
      "\u001b[34m[11:44:16] src/tree/updater_prune.cc:74: tree pruning end, 1 roots, 2 extra nodes, 62 pruned nodes, max_depth=1\u001b[0m\n",
      "\u001b[34m[180]#011train-rmse:0.268109#011validation-rmse:0.31578\u001b[0m\n",
      "\u001b[34m[11:44:19] src/tree/updater_prune.cc:74: tree pruning end, 1 roots, 12 extra nodes, 54 pruned nodes, max_depth=6\u001b[0m\n",
      "\u001b[34m[181]#011train-rmse:0.26784#011validation-rmse:0.315666\u001b[0m\n",
      "\u001b[34m[11:44:22] src/tree/updater_prune.cc:74: tree pruning end, 1 roots, 4 extra nodes, 52 pruned nodes, max_depth=2\u001b[0m\n",
      "\u001b[34m[182]#011train-rmse:0.267766#011validation-rmse:0.315633\u001b[0m\n",
      "\u001b[34m[11:44:24] src/tree/updater_prune.cc:74: tree pruning end, 1 roots, 0 extra nodes, 42 pruned nodes, max_depth=0\u001b[0m\n",
      "\u001b[34m[183]#011train-rmse:0.267763#011validation-rmse:0.315632\u001b[0m\n",
      "\u001b[34m[11:44:27] src/tree/updater_prune.cc:74: tree pruning end, 1 roots, 0 extra nodes, 36 pruned nodes, max_depth=0\u001b[0m\n",
      "\u001b[34m[184]#011train-rmse:0.267763#011validation-rmse:0.315632\u001b[0m\n",
      "\u001b[34m[11:44:30] src/tree/updater_prune.cc:74: tree pruning end, 1 roots, 0 extra nodes, 22 pruned nodes, max_depth=0\u001b[0m\n",
      "\u001b[34m[185]#011train-rmse:0.267763#011validation-rmse:0.315632\u001b[0m\n",
      "\u001b[34m[11:44:33] src/tree/updater_prune.cc:74: tree pruning end, 1 roots, 0 extra nodes, 38 pruned nodes, max_depth=0\u001b[0m\n",
      "\u001b[34m[186]#011train-rmse:0.267762#011validation-rmse:0.315632\u001b[0m\n",
      "\u001b[34m[11:44:35] src/tree/updater_prune.cc:74: tree pruning end, 1 roots, 2 extra nodes, 76 pruned nodes, max_depth=1\u001b[0m\n",
      "\u001b[34m[187]#011train-rmse:0.267713#011validation-rmse:0.315597\u001b[0m\n",
      "\u001b[34m[11:44:38] src/tree/updater_prune.cc:74: tree pruning end, 1 roots, 0 extra nodes, 42 pruned nodes, max_depth=0\u001b[0m\n",
      "\u001b[34m[188]#011train-rmse:0.267717#011validation-rmse:0.315598\u001b[0m\n",
      "\u001b[34m[11:44:41] src/tree/updater_prune.cc:74: tree pruning end, 1 roots, 16 extra nodes, 32 pruned nodes, max_depth=8\u001b[0m\n",
      "\u001b[34m[189]#011train-rmse:0.267351#011validation-rmse:0.315547\u001b[0m\n",
      "\u001b[34m[11:44:44] src/tree/updater_prune.cc:74: tree pruning end, 1 roots, 0 extra nodes, 24 pruned nodes, max_depth=0\u001b[0m\n",
      "\u001b[34m[190]#011train-rmse:0.26735#011validation-rmse:0.315546\u001b[0m\n",
      "\u001b[34m[11:44:46] src/tree/updater_prune.cc:74: tree pruning end, 1 roots, 0 extra nodes, 62 pruned nodes, max_depth=0\u001b[0m\n",
      "\u001b[34m[191]#011train-rmse:0.267355#011validation-rmse:0.315548\u001b[0m\n",
      "\u001b[34m[11:44:49] src/tree/updater_prune.cc:74: tree pruning end, 1 roots, 0 extra nodes, 48 pruned nodes, max_depth=0\u001b[0m\n",
      "\u001b[34m[192]#011train-rmse:0.267352#011validation-rmse:0.315547\u001b[0m\n",
      "\u001b[34m[11:44:52] src/tree/updater_prune.cc:74: tree pruning end, 1 roots, 16 extra nodes, 56 pruned nodes, max_depth=6\u001b[0m\n",
      "\u001b[34m[193]#011train-rmse:0.266955#011validation-rmse:0.315554\u001b[0m\n",
      "\u001b[34m[11:44:55] src/tree/updater_prune.cc:74: tree pruning end, 1 roots, 0 extra nodes, 40 pruned nodes, max_depth=0\u001b[0m\n",
      "\u001b[34m[194]#011train-rmse:0.266955#011validation-rmse:0.315553\u001b[0m\n",
      "\u001b[34m[11:44:57] src/tree/updater_prune.cc:74: tree pruning end, 1 roots, 0 extra nodes, 46 pruned nodes, max_depth=0\u001b[0m\n",
      "\u001b[34m[195]#011train-rmse:0.266956#011validation-rmse:0.315554\u001b[0m\n",
      "\u001b[34m[11:45:00] src/tree/updater_prune.cc:74: tree pruning end, 1 roots, 16 extra nodes, 48 pruned nodes, max_depth=8\u001b[0m\n",
      "\u001b[34m[196]#011train-rmse:0.26666#011validation-rmse:0.315469\u001b[0m\n",
      "\u001b[34m[11:45:03] src/tree/updater_prune.cc:74: tree pruning end, 1 roots, 4 extra nodes, 50 pruned nodes, max_depth=2\u001b[0m\n",
      "\u001b[34m[197]#011train-rmse:0.2666#011validation-rmse:0.31549\u001b[0m\n",
      "\u001b[34m[11:45:06] src/tree/updater_prune.cc:74: tree pruning end, 1 roots, 0 extra nodes, 44 pruned nodes, max_depth=0\u001b[0m\n",
      "\u001b[34m[198]#011train-rmse:0.266601#011validation-rmse:0.31549\u001b[0m\n",
      "\u001b[34m[11:45:08] src/tree/updater_prune.cc:74: tree pruning end, 1 roots, 0 extra nodes, 34 pruned nodes, max_depth=0\u001b[0m\n",
      "\u001b[34m[199]#011train-rmse:0.266599#011validation-rmse:0.31549\u001b[0m\n"
     ]
    },
    {
     "name": "stdout",
     "output_type": "stream",
     "text": [
      "Training seconds: 656\n",
      "Billable seconds: 656\n"
     ]
    }
   ],
   "source": [
    "# TODO: Create a new estimator object attached to the best training job found during hyperparameter tuning\n",
    "\n",
    "xgb_attached = sagemaker.estimator.Estimator.attach(xgb_hyperparameter_tuner.best_training_job())\n"
   ]
  },
  {
   "cell_type": "markdown",
   "metadata": {},
   "source": [
    "Now that we have an estimator object attached to the correct training job, we can proceed as we normally would and create a transformer object."
   ]
  },
  {
   "cell_type": "code",
   "execution_count": 27,
   "metadata": {},
   "outputs": [],
   "source": [
    "# TODO: Create a transformer object from the attached estimator. Using an instance count of 1 and an instance type of ml.m4.xlarge\n",
    "#       should be more than enough.\n",
    "\n",
    "xgb_transformer = xgb_attached.transformer(instance_count = 1, instance_type = 'ml.m4.xlarge')\n"
   ]
  },
  {
   "cell_type": "markdown",
   "metadata": {},
   "source": [
    "Next we actually perform the transform job. When doing so we need to make sure to specify the type of data we are sending so that it is serialized correctly in the background. In our case we are providing our model with csv data so we specify `text/csv`. Also, if the test data that we have provided is too large to process all at once then we need to specify how the data file should be split up. Since each line is a single entry in our data set we tell SageMaker that it can split the input on each line."
   ]
  },
  {
   "cell_type": "code",
   "execution_count": 28,
   "metadata": {},
   "outputs": [],
   "source": [
    "# TODO: Start the transform job. Make sure to specify the content type and the split type of the test data.\n",
    "xgb_transformer.transform(test_location, content_type='text/csv', split_type='Line')"
   ]
  },
  {
   "cell_type": "markdown",
   "metadata": {},
   "source": [
    "Currently the transform job is running but it is doing so in the background. Since we wish to wait until the transform job is done and we would like a bit of feedback we can run the `wait()` method."
   ]
  },
  {
   "cell_type": "code",
   "execution_count": 29,
   "metadata": {},
   "outputs": [
    {
     "name": "stdout",
     "output_type": "stream",
     "text": [
      ".......................\u001b[34mArguments: serve\u001b[0m\n",
      "\u001b[34m[2020-04-21 12:02:25 +0000] [1] [INFO] Starting gunicorn 19.7.1\u001b[0m\n",
      "\u001b[34m[2020-04-21 12:02:25 +0000] [1] [INFO] Listening at: http://0.0.0.0:8080 (1)\u001b[0m\n",
      "\u001b[34m[2020-04-21 12:02:25 +0000] [1] [INFO] Using worker: gevent\u001b[0m\n",
      "\u001b[34m[2020-04-21 12:02:25 +0000] [38] [INFO] Booting worker with pid: 38\u001b[0m\n",
      "\u001b[34m[2020-04-21 12:02:25 +0000] [39] [INFO] Booting worker with pid: 39\u001b[0m\n",
      "\u001b[34m[2020-04-21 12:02:25 +0000] [40] [INFO] Booting worker with pid: 40\u001b[0m\n",
      "\u001b[34m[2020-04-21 12:02:25 +0000] [41] [INFO] Booting worker with pid: 41\u001b[0m\n",
      "\u001b[34m[2020-04-21:12:02:25:INFO] Model loaded successfully for worker : 40\u001b[0m\n",
      "\u001b[34m[2020-04-21:12:02:25:INFO] Model loaded successfully for worker : 38\u001b[0m\n",
      "\u001b[34m[2020-04-21:12:02:25:INFO] Model loaded successfully for worker : 39\u001b[0m\n",
      "\u001b[34m[2020-04-21:12:02:25:INFO] Model loaded successfully for worker : 41\u001b[0m\n",
      "\u001b[35mArguments: serve\u001b[0m\n",
      "\u001b[35m[2020-04-21 12:02:25 +0000] [1] [INFO] Starting gunicorn 19.7.1\u001b[0m\n",
      "\u001b[35m[2020-04-21 12:02:25 +0000] [1] [INFO] Listening at: http://0.0.0.0:8080 (1)\u001b[0m\n",
      "\u001b[35m[2020-04-21 12:02:25 +0000] [1] [INFO] Using worker: gevent\u001b[0m\n",
      "\u001b[35m[2020-04-21 12:02:25 +0000] [38] [INFO] Booting worker with pid: 38\u001b[0m\n",
      "\u001b[35m[2020-04-21 12:02:25 +0000] [39] [INFO] Booting worker with pid: 39\u001b[0m\n",
      "\u001b[35m[2020-04-21 12:02:25 +0000] [40] [INFO] Booting worker with pid: 40\u001b[0m\n",
      "\u001b[35m[2020-04-21 12:02:25 +0000] [41] [INFO] Booting worker with pid: 41\u001b[0m\n",
      "\u001b[35m[2020-04-21:12:02:25:INFO] Model loaded successfully for worker : 40\u001b[0m\n",
      "\u001b[35m[2020-04-21:12:02:25:INFO] Model loaded successfully for worker : 38\u001b[0m\n",
      "\u001b[35m[2020-04-21:12:02:25:INFO] Model loaded successfully for worker : 39\u001b[0m\n",
      "\u001b[35m[2020-04-21:12:02:25:INFO] Model loaded successfully for worker : 41\u001b[0m\n",
      "\u001b[32m2020-04-21T12:02:34.186:[sagemaker logs]: MaxConcurrentTransforms=4, MaxPayloadInMB=6, BatchStrategy=MULTI_RECORD\u001b[0m\n",
      "\u001b[34m[2020-04-21:12:02:36:INFO] Sniff delimiter as ','\u001b[0m\n",
      "\u001b[34m[2020-04-21:12:02:36:INFO] Determined delimiter of CSV input is ','\u001b[0m\n",
      "\u001b[34m[2020-04-21:12:02:37:INFO] Sniff delimiter as ','\u001b[0m\n",
      "\u001b[34m[2020-04-21:12:02:37:INFO] Determined delimiter of CSV input is ','\u001b[0m\n",
      "\u001b[34m[2020-04-21:12:02:37:INFO] Sniff delimiter as ','\u001b[0m\n",
      "\u001b[34m[2020-04-21:12:02:37:INFO] Determined delimiter of CSV input is ','\u001b[0m\n",
      "\u001b[35m[2020-04-21:12:02:36:INFO] Sniff delimiter as ','\u001b[0m\n",
      "\u001b[35m[2020-04-21:12:02:36:INFO] Determined delimiter of CSV input is ','\u001b[0m\n",
      "\u001b[35m[2020-04-21:12:02:37:INFO] Sniff delimiter as ','\u001b[0m\n",
      "\u001b[35m[2020-04-21:12:02:37:INFO] Determined delimiter of CSV input is ','\u001b[0m\n",
      "\u001b[35m[2020-04-21:12:02:37:INFO] Sniff delimiter as ','\u001b[0m\n",
      "\u001b[35m[2020-04-21:12:02:37:INFO] Determined delimiter of CSV input is ','\u001b[0m\n",
      "\u001b[34m[2020-04-21:12:02:37:INFO] Sniff delimiter as ','\u001b[0m\n",
      "\u001b[34m[2020-04-21:12:02:37:INFO] Determined delimiter of CSV input is ','\u001b[0m\n",
      "\u001b[35m[2020-04-21:12:02:37:INFO] Sniff delimiter as ','\u001b[0m\n",
      "\u001b[35m[2020-04-21:12:02:37:INFO] Determined delimiter of CSV input is ','\u001b[0m\n",
      "\u001b[34m[2020-04-21:12:02:39:ERROR] Feature size of csv inference data 5001 is not consistent with feature size of trained model 5000\u001b[0m\n",
      "\u001b[34mTraceback (most recent call last):\n",
      "  File \"/opt/amazon/lib/python2.7/site-packages/sage_xgboost/serve.py\", line 258, in invocations\n",
      "    preds = ScoringService.predict(data=dtest, content_type=content_type, model_format=format)\n",
      "  File \"/opt/amazon/lib/python2.7/site-packages/sage_xgboost/serve.py\", line 119, in predict\n",
      "    'with feature size of trained model {}'.format(y, x))\u001b[0m\n",
      "\u001b[34mValueError: Feature size of csv inference data 5001 is not consistent with feature size of trained model 5000\u001b[0m\n",
      "\u001b[35m[2020-04-21:12:02:39:ERROR] Feature size of csv inference data 5001 is not consistent with feature size of trained model 5000\u001b[0m\n",
      "\u001b[35mTraceback (most recent call last):\n",
      "  File \"/opt/amazon/lib/python2.7/site-packages/sage_xgboost/serve.py\", line 258, in invocations\n",
      "    preds = ScoringService.predict(data=dtest, content_type=content_type, model_format=format)\n",
      "  File \"/opt/amazon/lib/python2.7/site-packages/sage_xgboost/serve.py\", line 119, in predict\n",
      "    'with feature size of trained model {}'.format(y, x))\u001b[0m\n",
      "\u001b[35mValueError: Feature size of csv inference data 5001 is not consistent with feature size of trained model 5000\u001b[0m\n",
      "\u001b[34m[2020-04-21:12:02:39:ERROR] Feature size of csv inference data 5001 is not consistent with feature size of trained model 5000\u001b[0m\n",
      "\u001b[34mTraceback (most recent call last):\n",
      "  File \"/opt/amazon/lib/python2.7/site-packages/sage_xgboost/serve.py\", line 258, in invocations\n",
      "    preds = ScoringService.predict(data=dtest, content_type=content_type, model_format=format)\n",
      "  File \"/opt/amazon/lib/python2.7/site-packages/sage_xgboost/serve.py\", line 119, in predict\n",
      "    'with feature size of trained model {}'.format(y, x))\u001b[0m\n",
      "\u001b[34mValueError: Feature size of csv inference data 5001 is not consistent with feature size of trained model 5000\u001b[0m\n",
      "\u001b[34m[2020-04-21:12:02:39:ERROR] Feature size of csv inference data 5001 is not consistent with feature size of trained model 5000\u001b[0m\n",
      "\u001b[34mTraceback (most recent call last):\n",
      "  File \"/opt/amazon/lib/python2.7/site-packages/sage_xgboost/serve.py\", line 258, in invocations\n",
      "    preds = ScoringService.predict(data=dtest, content_type=content_type, model_format=format)\n",
      "  File \"/opt/amazon/lib/python2.7/site-packages/sage_xgboost/serve.py\", line 119, in predict\n",
      "    'with feature size of trained model {}'.format(y, x))\u001b[0m\n",
      "\u001b[34mValueError: Feature size of csv inference data 5001 is not consistent with feature size of trained model 5000\u001b[0m\n",
      "\u001b[34m[2020-04-21:12:02:39:ERROR] Feature size of csv inference data 5001 is not consistent with feature size of trained model 5000\u001b[0m\n",
      "\u001b[34mTraceback (most recent call last):\n",
      "  File \"/opt/amazon/lib/python2.7/site-packages/sage_xgboost/serve.py\", line 258, in invocations\n",
      "    preds = ScoringService.predict(data=dtest, content_type=content_type, model_format=format)\n",
      "  File \"/opt/amazon/lib/python2.7/site-packages/sage_xgboost/serve.py\", line 119, in predict\n",
      "    'with feature size of trained model {}'.format(y, x))\u001b[0m\n",
      "\u001b[34mValueError: Feature size of csv inference data 5001 is not consistent with feature size of trained model 5000\u001b[0m\n",
      "\u001b[35m[2020-04-21:12:02:39:ERROR] Feature size of csv inference data 5001 is not consistent with feature size of trained model 5000\u001b[0m\n",
      "\u001b[35mTraceback (most recent call last):\n",
      "  File \"/opt/amazon/lib/python2.7/site-packages/sage_xgboost/serve.py\", line 258, in invocations\n",
      "    preds = ScoringService.predict(data=dtest, content_type=content_type, model_format=format)\n",
      "  File \"/opt/amazon/lib/python2.7/site-packages/sage_xgboost/serve.py\", line 119, in predict\n",
      "    'with feature size of trained model {}'.format(y, x))\u001b[0m\n",
      "\u001b[35mValueError: Feature size of csv inference data 5001 is not consistent with feature size of trained model 5000\u001b[0m\n",
      "\u001b[35m[2020-04-21:12:02:39:ERROR] Feature size of csv inference data 5001 is not consistent with feature size of trained model 5000\u001b[0m\n",
      "\u001b[35mTraceback (most recent call last):\n",
      "  File \"/opt/amazon/lib/python2.7/site-packages/sage_xgboost/serve.py\", line 258, in invocations\n",
      "    preds = ScoringService.predict(data=dtest, content_type=content_type, model_format=format)\n",
      "  File \"/opt/amazon/lib/python2.7/site-packages/sage_xgboost/serve.py\", line 119, in predict\n",
      "    'with feature size of trained model {}'.format(y, x))\u001b[0m\n",
      "\u001b[35mValueError: Feature size of csv inference data 5001 is not consistent with feature size of trained model 5000\u001b[0m\n",
      "\u001b[35m[2020-04-21:12:02:39:ERROR] Feature size of csv inference data 5001 is not consistent with feature size of trained model 5000\u001b[0m\n",
      "\u001b[35mTraceback (most recent call last):\n",
      "  File \"/opt/amazon/lib/python2.7/site-packages/sage_xgboost/serve.py\", line 258, in invocations\n",
      "    preds = ScoringService.predict(data=dtest, content_type=content_type, model_format=format)\n",
      "  File \"/opt/amazon/lib/python2.7/site-packages/sage_xgboost/serve.py\", line 119, in predict\n",
      "    'with feature size of trained model {}'.format(y, x))\u001b[0m\n",
      "\u001b[35mValueError: Feature size of csv inference data 5001 is not consistent with feature size of trained model 5000\u001b[0m\n",
      "\n",
      "\u001b[32m2020-04-21T12:02:39.218:[sagemaker logs]: sagemaker-eu-west-1-269973552717/sentiment-xgboost/test.csv: ClientError: 400\u001b[0m\n",
      "\u001b[32m2020-04-21T12:02:39.219:[sagemaker logs]: sagemaker-eu-west-1-269973552717/sentiment-xgboost/test.csv: \u001b[0m\n",
      "\u001b[32m2020-04-21T12:02:39.219:[sagemaker logs]: sagemaker-eu-west-1-269973552717/sentiment-xgboost/test.csv: Message:\u001b[0m\n",
      "\u001b[32m2020-04-21T12:02:39.219:[sagemaker logs]: sagemaker-eu-west-1-269973552717/sentiment-xgboost/test.csv: Unable to evaluate payload provided: Feature size of csv inference data 5001 is not consistent with feature size of trained model 5000\u001b[0m\n",
      "\u001b[32m2020-04-21T12:02:39.228:[sagemaker logs]: sagemaker-eu-west-1-269973552717/sentiment-xgboost/test.csv: ClientError: 400\u001b[0m\n",
      "\u001b[32m2020-04-21T12:02:39.229:[sagemaker logs]: sagemaker-eu-west-1-269973552717/sentiment-xgboost/test.csv: \u001b[0m\n",
      "\u001b[32m2020-04-21T12:02:39.230:[sagemaker logs]: sagemaker-eu-west-1-269973552717/sentiment-xgboost/test.csv: Message:\u001b[0m\n",
      "\u001b[32m2020-04-21T12:02:39.230:[sagemaker logs]: sagemaker-eu-west-1-269973552717/sentiment-xgboost/test.csv: Unable to evaluate payload provided: Feature size of csv inference data 5001 is not consistent with feature size of trained model 5000\u001b[0m\n",
      "\u001b[32m2020-04-21T12:02:39.295:[sagemaker logs]: sagemaker-eu-west-1-269973552717/sentiment-xgboost/test.csv: ClientError: 400\u001b[0m\n",
      "\u001b[32m2020-04-21T12:02:39.296:[sagemaker logs]: sagemaker-eu-west-1-269973552717/sentiment-xgboost/test.csv: \u001b[0m\n",
      "\u001b[32m2020-04-21T12:02:39.296:[sagemaker logs]: sagemaker-eu-west-1-269973552717/sentiment-xgboost/test.csv: Message:\u001b[0m\n",
      "\u001b[32m2020-04-21T12:02:39.296:[sagemaker logs]: sagemaker-eu-west-1-269973552717/sentiment-xgboost/test.csv: Unable to evaluate payload provided: Feature size of csv inference data 5001 is not consistent with feature size of trained model 5000\u001b[0m\n",
      "\u001b[32m2020-04-21T12:02:39.363:[sagemaker logs]: sagemaker-eu-west-1-269973552717/sentiment-xgboost/test.csv: ClientError: 400\u001b[0m\n",
      "\u001b[32m2020-04-21T12:02:39.363:[sagemaker logs]: sagemaker-eu-west-1-269973552717/sentiment-xgboost/test.csv: \u001b[0m\n",
      "\u001b[32m2020-04-21T12:02:39.364:[sagemaker logs]: sagemaker-eu-west-1-269973552717/sentiment-xgboost/test.csv: Message:\u001b[0m\n",
      "\u001b[32m2020-04-21T12:02:39.364:[sagemaker logs]: sagemaker-eu-west-1-269973552717/sentiment-xgboost/test.csv: Unable to evaluate payload provided: Feature size of csv inference data 5001 is not consistent with feature size of trained model 5000\u001b[0m\n"
     ]
    },
    {
     "ename": "UnexpectedStatusException",
     "evalue": "Error for Transform job xgboost-200421-1133-002-a52ad6f3-2020-04-21-11-58-44-837: Failed. Reason: ClientError: See job logs for more information",
     "output_type": "error",
     "traceback": [
      "\u001b[0;31m---------------------------------------------------------------------------\u001b[0m",
      "\u001b[0;31mUnexpectedStatusException\u001b[0m                 Traceback (most recent call last)",
      "\u001b[0;32m<ipython-input-29-41dd6a2aa41e>\u001b[0m in \u001b[0;36m<module>\u001b[0;34m()\u001b[0m\n\u001b[0;32m----> 1\u001b[0;31m \u001b[0mxgb_transformer\u001b[0m\u001b[0;34m.\u001b[0m\u001b[0mwait\u001b[0m\u001b[0;34m(\u001b[0m\u001b[0;34m)\u001b[0m\u001b[0;34m\u001b[0m\u001b[0m\n\u001b[0m",
      "\u001b[0;32m~/anaconda3/envs/python3/lib/python3.6/site-packages/sagemaker/transformer.py\u001b[0m in \u001b[0;36mwait\u001b[0;34m(self, logs)\u001b[0m\n\u001b[1;32m    253\u001b[0m         \u001b[0;34m\"\"\"Placeholder docstring\"\"\"\u001b[0m\u001b[0;34m\u001b[0m\u001b[0m\n\u001b[1;32m    254\u001b[0m         \u001b[0mself\u001b[0m\u001b[0;34m.\u001b[0m\u001b[0m_ensure_last_transform_job\u001b[0m\u001b[0;34m(\u001b[0m\u001b[0;34m)\u001b[0m\u001b[0;34m\u001b[0m\u001b[0m\n\u001b[0;32m--> 255\u001b[0;31m         \u001b[0mself\u001b[0m\u001b[0;34m.\u001b[0m\u001b[0mlatest_transform_job\u001b[0m\u001b[0;34m.\u001b[0m\u001b[0mwait\u001b[0m\u001b[0;34m(\u001b[0m\u001b[0mlogs\u001b[0m\u001b[0;34m=\u001b[0m\u001b[0mlogs\u001b[0m\u001b[0;34m)\u001b[0m\u001b[0;34m\u001b[0m\u001b[0m\n\u001b[0m\u001b[1;32m    256\u001b[0m \u001b[0;34m\u001b[0m\u001b[0m\n\u001b[1;32m    257\u001b[0m     \u001b[0;32mdef\u001b[0m \u001b[0mstop_transform_job\u001b[0m\u001b[0;34m(\u001b[0m\u001b[0mself\u001b[0m\u001b[0;34m,\u001b[0m \u001b[0mwait\u001b[0m\u001b[0;34m=\u001b[0m\u001b[0;32mTrue\u001b[0m\u001b[0;34m)\u001b[0m\u001b[0;34m:\u001b[0m\u001b[0;34m\u001b[0m\u001b[0m\n",
      "\u001b[0;32m~/anaconda3/envs/python3/lib/python3.6/site-packages/sagemaker/transformer.py\u001b[0m in \u001b[0;36mwait\u001b[0;34m(self, logs)\u001b[0m\n\u001b[1;32m    382\u001b[0m     \u001b[0;32mdef\u001b[0m \u001b[0mwait\u001b[0m\u001b[0;34m(\u001b[0m\u001b[0mself\u001b[0m\u001b[0;34m,\u001b[0m \u001b[0mlogs\u001b[0m\u001b[0;34m=\u001b[0m\u001b[0;32mTrue\u001b[0m\u001b[0;34m)\u001b[0m\u001b[0;34m:\u001b[0m\u001b[0;34m\u001b[0m\u001b[0m\n\u001b[1;32m    383\u001b[0m         \u001b[0;32mif\u001b[0m \u001b[0mlogs\u001b[0m\u001b[0;34m:\u001b[0m\u001b[0;34m\u001b[0m\u001b[0m\n\u001b[0;32m--> 384\u001b[0;31m             \u001b[0mself\u001b[0m\u001b[0;34m.\u001b[0m\u001b[0msagemaker_session\u001b[0m\u001b[0;34m.\u001b[0m\u001b[0mlogs_for_transform_job\u001b[0m\u001b[0;34m(\u001b[0m\u001b[0mself\u001b[0m\u001b[0;34m.\u001b[0m\u001b[0mjob_name\u001b[0m\u001b[0;34m,\u001b[0m \u001b[0mwait\u001b[0m\u001b[0;34m=\u001b[0m\u001b[0;32mTrue\u001b[0m\u001b[0;34m)\u001b[0m\u001b[0;34m\u001b[0m\u001b[0m\n\u001b[0m\u001b[1;32m    385\u001b[0m         \u001b[0;32melse\u001b[0m\u001b[0;34m:\u001b[0m\u001b[0;34m\u001b[0m\u001b[0m\n\u001b[1;32m    386\u001b[0m             \u001b[0mself\u001b[0m\u001b[0;34m.\u001b[0m\u001b[0msagemaker_session\u001b[0m\u001b[0;34m.\u001b[0m\u001b[0mwait_for_transform_job\u001b[0m\u001b[0;34m(\u001b[0m\u001b[0mself\u001b[0m\u001b[0;34m.\u001b[0m\u001b[0mjob_name\u001b[0m\u001b[0;34m)\u001b[0m\u001b[0;34m\u001b[0m\u001b[0m\n",
      "\u001b[0;32m~/anaconda3/envs/python3/lib/python3.6/site-packages/sagemaker/session.py\u001b[0m in \u001b[0;36mlogs_for_transform_job\u001b[0;34m(self, job_name, wait, poll)\u001b[0m\n\u001b[1;32m   3212\u001b[0m \u001b[0;34m\u001b[0m\u001b[0m\n\u001b[1;32m   3213\u001b[0m         \u001b[0;32mif\u001b[0m \u001b[0mwait\u001b[0m\u001b[0;34m:\u001b[0m\u001b[0;34m\u001b[0m\u001b[0m\n\u001b[0;32m-> 3214\u001b[0;31m             \u001b[0mself\u001b[0m\u001b[0;34m.\u001b[0m\u001b[0m_check_job_status\u001b[0m\u001b[0;34m(\u001b[0m\u001b[0mjob_name\u001b[0m\u001b[0;34m,\u001b[0m \u001b[0mdescription\u001b[0m\u001b[0;34m,\u001b[0m \u001b[0;34m\"TransformJobStatus\"\u001b[0m\u001b[0;34m)\u001b[0m\u001b[0;34m\u001b[0m\u001b[0m\n\u001b[0m\u001b[1;32m   3215\u001b[0m             \u001b[0;32mif\u001b[0m \u001b[0mdot\u001b[0m\u001b[0;34m:\u001b[0m\u001b[0;34m\u001b[0m\u001b[0m\n\u001b[1;32m   3216\u001b[0m                 \u001b[0mprint\u001b[0m\u001b[0;34m(\u001b[0m\u001b[0;34m)\u001b[0m\u001b[0;34m\u001b[0m\u001b[0m\n",
      "\u001b[0;32m~/anaconda3/envs/python3/lib/python3.6/site-packages/sagemaker/session.py\u001b[0m in \u001b[0;36m_check_job_status\u001b[0;34m(self, job, desc, status_key_name)\u001b[0m\n\u001b[1;32m   2636\u001b[0m                 ),\n\u001b[1;32m   2637\u001b[0m                 \u001b[0mallowed_statuses\u001b[0m\u001b[0;34m=\u001b[0m\u001b[0;34m[\u001b[0m\u001b[0;34m\"Completed\"\u001b[0m\u001b[0;34m,\u001b[0m \u001b[0;34m\"Stopped\"\u001b[0m\u001b[0;34m]\u001b[0m\u001b[0;34m,\u001b[0m\u001b[0;34m\u001b[0m\u001b[0m\n\u001b[0;32m-> 2638\u001b[0;31m                 \u001b[0mactual_status\u001b[0m\u001b[0;34m=\u001b[0m\u001b[0mstatus\u001b[0m\u001b[0;34m,\u001b[0m\u001b[0;34m\u001b[0m\u001b[0m\n\u001b[0m\u001b[1;32m   2639\u001b[0m             )\n\u001b[1;32m   2640\u001b[0m \u001b[0;34m\u001b[0m\u001b[0m\n",
      "\u001b[0;31mUnexpectedStatusException\u001b[0m: Error for Transform job xgboost-200421-1133-002-a52ad6f3-2020-04-21-11-58-44-837: Failed. Reason: ClientError: See job logs for more information"
     ]
    }
   ],
   "source": [
    "xgb_transformer.wait()"
   ]
  },
  {
   "cell_type": "markdown",
   "metadata": {},
   "source": [
    "Now the transform job has executed and the result, the estimated sentiment of each review, has been saved on S3. Since we would rather work on this file locally we can perform a bit of notebook magic to copy the file to the `data_dir`."
   ]
  },
  {
   "cell_type": "code",
   "execution_count": null,
   "metadata": {},
   "outputs": [],
   "source": [
    "!aws s3 cp --recursive $xgb_transformer.output_path $data_dir"
   ]
  },
  {
   "cell_type": "markdown",
   "metadata": {},
   "source": [
    "The last step is now to read in the output from our model, convert the output to something a little more usable, in this case we want the sentiment to be either `1` (positive) or `0` (negative), and then compare to the ground truth labels."
   ]
  },
  {
   "cell_type": "code",
   "execution_count": null,
   "metadata": {},
   "outputs": [],
   "source": [
    "predictions = pd.read_csv(os.path.join(data_dir, 'test.csv.out'), header=None)\n",
    "predictions = [round(num) for num in predictions.squeeze().values]"
   ]
  },
  {
   "cell_type": "code",
   "execution_count": null,
   "metadata": {},
   "outputs": [],
   "source": [
    "from sklearn.metrics import accuracy_score\n",
    "accuracy_score(test_y, predictions)"
   ]
  },
  {
   "cell_type": "markdown",
   "metadata": {},
   "source": [
    "## Optional: Clean up\n",
    "\n",
    "The default notebook instance on SageMaker doesn't have a lot of excess disk space available. As you continue to complete and execute notebooks you will eventually fill up this disk space, leading to errors which can be difficult to diagnose. Once you are completely finished using a notebook it is a good idea to remove the files that you created along the way. Of course, you can do this from the terminal or from the notebook hub if you would like. The cell below contains some commands to clean up the created files from within the notebook."
   ]
  },
  {
   "cell_type": "code",
   "execution_count": null,
   "metadata": {},
   "outputs": [],
   "source": [
    "# First we will remove all of the files contained in the data_dir directory\n",
    "!rm $data_dir/*\n",
    "\n",
    "# And then we delete the directory itself\n",
    "!rmdir $data_dir\n",
    "\n",
    "# Similarly we will remove the files in the cache_dir directory and the directory itself\n",
    "!rm $cache_dir/*\n",
    "!rmdir $cache_dir"
   ]
  },
  {
   "cell_type": "code",
   "execution_count": null,
   "metadata": {},
   "outputs": [],
   "source": []
  }
 ],
 "metadata": {
  "kernelspec": {
   "display_name": "conda_python3",
   "language": "python",
   "name": "conda_python3"
  },
  "language_info": {
   "codemirror_mode": {
    "name": "ipython",
    "version": 3
   },
   "file_extension": ".py",
   "mimetype": "text/x-python",
   "name": "python",
   "nbconvert_exporter": "python",
   "pygments_lexer": "ipython3",
   "version": "3.6.5"
  }
 },
 "nbformat": 4,
 "nbformat_minor": 2
}
